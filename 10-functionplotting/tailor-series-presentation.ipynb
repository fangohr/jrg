{
 "cells": [
  {
   "cell_type": "markdown",
   "metadata": {},
   "source": [
    "# Example: computing and plotting a function $y = f(x)$"
   ]
  },
  {
   "cell_type": "code",
   "execution_count": null,
   "metadata": {},
   "outputs": [],
   "source": [
    "# plot in the notebook (can't be interacted with)\n",
    "# %matplotlib inline\n",
    "\n",
    "# if it works, this interactive version is nicer:\n",
    "%matplotlib notebook\n",
    "\n",
    "# use SVG - looks better on high resolution screens\n",
    "%config InlineBackend.figure_formats = ['svg']\n",
    "\n",
    "# und Bibliothek fürs Zeichnen aktivieren\n",
    "import matplotlib.pyplot as plt\n",
    "\n",
    "# für schickere Farben, seaborn style aktivieren:\n",
    "import seaborn\n",
    "seaborn.set_style('darkgrid')\n",
    "# Verfügbare styles: `darkgrid`, `whitegrid`, `dark`, `white`, und `ticks`\n",
    "\n",
    "import math"
   ]
  },
  {
   "cell_type": "code",
   "execution_count": null,
   "metadata": {},
   "outputs": [],
   "source": [
    "def f(x):\n",
    "    \"\"\"Computes and returns 2*x - 1 for a given value x\"\"\"\n",
    "    return 2*x - 1"
   ]
  },
  {
   "cell_type": "code",
   "execution_count": null,
   "metadata": {},
   "outputs": [],
   "source": [
    "# Liste, um x-Werte zu speichern\n",
    "xs = []\n",
    "# Liste, um y-Werte (=f(x)) zu speichern\n",
    "ys = []\n",
    "\n",
    "n = 11    # 11 Punkte\n",
    "offset = -1  # fängt by x = -1 an\n",
    "step = 0.2  # erhöht x von Punkt zu Punkt um 0.2\n",
    "for i in range(n):\n",
    "    x = i*step + offset\n",
    "    xs.append(x)\n",
    "    \n",
    "    y = f(x)\n",
    "    ys.append(y)\n",
    "    \n",
    "# Falls gewünscht, berechnete Punkte is Tabelle anzeigen\n",
    "for i in range(len(xs)):\n",
    "    print(f\"x = {xs[i]:10f}, y = {ys[i]:10f}\")\n",
    "    \n",
    "    "
   ]
  },
  {
   "cell_type": "code",
   "execution_count": null,
   "metadata": {},
   "outputs": [],
   "source": [
    "fig, ax = plt.subplots()\n",
    "ax.plot(xs, ys, 'o-')   # Punkte ('o') und Linien ('-')\n",
    "ax.set_xlabel('x')\n",
    "ax.set_ylabel('f(x) = 3x - 1');\n"
   ]
  },
  {
   "cell_type": "markdown",
   "metadata": {},
   "source": [
    "## Task 1: what is $f_1$ ?"
   ]
  },
  {
   "cell_type": "code",
   "execution_count": null,
   "metadata": {},
   "outputs": [],
   "source": [
    "def f1(x, terms=100):\n",
    "    y = 0\n",
    "    for n in range(terms):\n",
    "        prefactor = (-1)**n / math.factorial(2*n + 1)\n",
    "        y += prefactor * x**(2*n + 1) \n",
    "    return y\n",
    "        "
   ]
  },
  {
   "cell_type": "markdown",
   "metadata": {},
   "source": [
    "Function $f_1(x)$ can be written as\n",
    "\n",
    "$$ f_1(x) = \\sum\\limits_{n=0}^\\infty \\frac{(-1)^n}{(2n +1)!}x^{2n+1} = x - \\frac{x^3}{3!} + \\frac{x^5}{5!} - \\frac{x^7}{7!} + \\ldots$$"
   ]
  },
  {
   "cell_type": "code",
   "execution_count": null,
   "metadata": {
    "scrolled": false
   },
   "outputs": [],
   "source": [
    "# Liste, um x-Werte zu speichern\n",
    "xs = []\n",
    "# Liste, um y-Werte (=f(x)) zu speichern\n",
    "ys = []\n",
    "ys2 = []\n",
    "\n",
    "n = 101    \n",
    "offset = -5 \n",
    "step = 0.1  \n",
    "for i in range(n):\n",
    "    x = i*step + offset\n",
    "    xs.append(x)\n",
    "    \n",
    "    y = f1(x)\n",
    "    ys.append(y)\n",
    "    \n",
    "    ys2.append(math.pow(x, 2))   # try y2 = x^2 \n",
    "    \n",
    "# Falls gewünscht, berechnete Punkte is Tabelle anzeigen\n",
    "# for i in range(len(xs)):\n",
    "#    print(f\"x = {xs[i]:10f}, y = {ys[i]:10f}\")\n",
    "    \n",
    "fig, ax = plt.subplots()\n",
    "ax.plot(xs, ys, '-', label='f1(x)')   \n",
    "ax.plot(xs, ys2, '.', label='0.1*exp(x)') \n",
    "\n",
    "ax.set_xlabel('x')\n",
    "ax.set_ylabel('f(x) = ?');\n",
    "ax.legend();\n",
    "\n"
   ]
  },
  {
   "cell_type": "markdown",
   "metadata": {},
   "source": [
    "## Task 2: What is $f_2$?"
   ]
  },
  {
   "cell_type": "code",
   "execution_count": null,
   "metadata": {},
   "outputs": [],
   "source": [
    "def f2(x, terms=100):\n",
    "    y = 0\n",
    "    for n in range(terms):\n",
    "        prefactor = (-1)**n / math.factorial(2*n)\n",
    "        y += prefactor * x**(2*n) \n",
    "    return y\n",
    "        "
   ]
  },
  {
   "cell_type": "markdown",
   "metadata": {},
   "source": [
    "## Task 3: What is $f_3$?"
   ]
  },
  {
   "cell_type": "code",
   "execution_count": null,
   "metadata": {},
   "outputs": [],
   "source": [
    "def f3(x, terms=100):\n",
    "    y = 0\n",
    "    for n in range(terms):\n",
    "        y += x**n / math.factorial(n) \n",
    "    return y\n",
    "\n"
   ]
  },
  {
   "cell_type": "markdown",
   "metadata": {},
   "source": [
    "## Task 4: How many terms are required?"
   ]
  },
  {
   "cell_type": "code",
   "execution_count": null,
   "metadata": {},
   "outputs": [],
   "source": []
  }
 ],
 "metadata": {
  "kernelspec": {
   "display_name": "Python 3",
   "language": "python",
   "name": "python3"
  },
  "language_info": {
   "codemirror_mode": {
    "name": "ipython",
    "version": 3
   },
   "file_extension": ".py",
   "mimetype": "text/x-python",
   "name": "python",
   "nbconvert_exporter": "python",
   "pygments_lexer": "ipython3",
   "version": "3.8.3"
  }
 },
 "nbformat": 4,
 "nbformat_minor": 4
}
