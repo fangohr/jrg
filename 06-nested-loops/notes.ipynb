{
 "cells": [
  {
   "cell_type": "markdown",
   "metadata": {},
   "source": [
    "# Geschachtelte Schleifen"
   ]
  },
  {
   "cell_type": "markdown",
   "metadata": {},
   "source": [
    "## Beispiel 1\n",
    "\n",
    "Dies Programm "
   ]
  },
  {
   "cell_type": "code",
   "execution_count": null,
   "metadata": {},
   "outputs": [],
   "source": [
    "import turtle \n",
    "\n",
    "gitta = turtle.Turtle()\n",
    "\n",
    "# Pixel Abstand von Punkt zu Punkt\n",
    "dot_distance = 25\n",
    "\n",
    "# wieviele Spalten und Reihen\n",
    "width = 5\n",
    "height = 7\n",
    "\n",
    "gitta.penup()\n",
    "\n",
    "for y in range(height):\n",
    "    for i in range(width):\n",
    "        gitta.dot()\n",
    "        gitta.forward(dot_distance)\n",
    "    gitta.backward(dot_distance * width)\n",
    "    gitta.right(90)\n",
    "    gitta.forward(dot_distance)\n",
    "    gitta.left(90)\n",
    "\n",
    "turtle.done()\n",
    "turtle.bye()\n"
   ]
  },
  {
   "cell_type": "markdown",
   "metadata": {},
   "source": [
    "erzeugt dieses Bild ![Gitter](grid.png)."
   ]
  },
  {
   "cell_type": "markdown",
   "metadata": {},
   "source": [
    "## Aufgabe 1\n",
    "\n",
    "- Verstehe, das Programm zu verstehen\n",
    "- Kannst Du die Anordnung von 7 Reihen und 5 Spalten ändern? ZB 2 Spalten und 6 Reihen?\n",
    "- Kannst Du das Programm kopieren, und so verändern, dass (in etwa) die folgende Abbildung entsteht\n",
    "  ![polygons](polygons.png)"
   ]
  },
  {
   "cell_type": "markdown",
   "metadata": {},
   "source": [
    "## Aufgabe 2\n",
    "\n",
    "Schreibe ein Programm, das die folgende Multiplikationstabelle ausrechnet."
   ]
  },
  {
   "cell_type": "markdown",
   "metadata": {},
   "source": [
    "```\n",
    "----------------------------------------------------------------------\n",
    "  1 |    2 |    3 |    4 |    5 |    6 |    7 |    8 |    9 |   10 |  \n",
    "----------------------------------------------------------------------\n",
    "  2 |    4 |    6 |    8 |   10 |   12 |   14 |   16 |   18 |   20 |  \n",
    "----------------------------------------------------------------------\n",
    "  3 |    6 |    9 |   12 |   15 |   18 |   21 |   24 |   27 |   30 |  \n",
    "----------------------------------------------------------------------\n",
    "  4 |    8 |   12 |   16 |   20 |   24 |   28 |   32 |   36 |   40 |  \n",
    "----------------------------------------------------------------------\n",
    "  5 |   10 |   15 |   20 |   25 |   30 |   35 |   40 |   45 |   50 |  \n",
    "----------------------------------------------------------------------\n",
    "  6 |   12 |   18 |   24 |   30 |   36 |   42 |   48 |   54 |   60 |  \n",
    "----------------------------------------------------------------------\n",
    "  7 |   14 |   21 |   28 |   35 |   42 |   49 |   56 |   63 |   70 |  \n",
    "----------------------------------------------------------------------\n",
    "  8 |   16 |   24 |   32 |   40 |   48 |   56 |   64 |   72 |   80 |  \n",
    "----------------------------------------------------------------------\n",
    "  9 |   18 |   27 |   36 |   45 |   54 |   63 |   72 |   81 |   90 |  \n",
    "----------------------------------------------------------------------\n",
    " 10 |   20 |   30 |   40 |   50 |   60 |   70 |   80 |   90 |  100 |  \n",
    "----------------------------------------------------------------------\n",
    "```"
   ]
  },
  {
   "cell_type": "markdown",
   "metadata": {},
   "source": [
    "Hinweise zum Formatieren von Zahlen:"
   ]
  },
  {
   "cell_type": "code",
   "execution_count": 27,
   "metadata": {},
   "outputs": [
    {
     "name": "stdout",
     "output_type": "stream",
     "text": [
      "|   17|\n"
     ]
    }
   ],
   "source": [
    "x = 17\n",
    "print(f\"|{x:5}|\")   # formatiere x so, dass 5 Spalten benutzt werden"
   ]
  },
  {
   "cell_type": "code",
   "execution_count": 28,
   "metadata": {},
   "outputs": [
    {
     "name": "stdout",
     "output_type": "stream",
     "text": [
      "| 17|\n"
     ]
    }
   ],
   "source": [
    "x = 17\n",
    "print(f\"|{x:3}|\")   # formatiere x so, dass 3 Spalten benutzt werden"
   ]
  },
  {
   "cell_type": "markdown",
   "metadata": {},
   "source": [
    "Hinweise zum Vermeiden von Zeilenumbrüchen:"
   ]
  },
  {
   "cell_type": "code",
   "execution_count": 29,
   "metadata": {},
   "outputs": [
    {
     "name": "stdout",
     "output_type": "stream",
     "text": [
      "cat\n",
      "dog\n"
     ]
    }
   ],
   "source": [
    "print(\"cat\")    # normal druck am Ende des Ausdrucks einen Zeilenumbruch\n",
    "print(\"dog\")"
   ]
  },
  {
   "cell_type": "code",
   "execution_count": 30,
   "metadata": {},
   "outputs": [
    {
     "name": "stdout",
     "output_type": "stream",
     "text": [
      "catdog\n"
     ]
    }
   ],
   "source": [
    "print(\"cat\", end=\"\")    # keinen Zeilenumbruch am Ende\n",
    "print(\"dog\")"
   ]
  },
  {
   "cell_type": "markdown",
   "metadata": {},
   "source": [
    "Um 10 Striche zu drucken, können wir einen String mit 10 Strichen so erzeugen:"
   ]
  },
  {
   "cell_type": "code",
   "execution_count": 32,
   "metadata": {},
   "outputs": [
    {
     "data": {
      "text/plain": [
       "'----------'"
      ]
     },
     "execution_count": 32,
     "metadata": {},
     "output_type": "execute_result"
    }
   ],
   "source": [
    "10 * \"-\""
   ]
  },
  {
   "cell_type": "markdown",
   "metadata": {},
   "source": [
    "Das kann dann auch mit `print` benutzt werden:"
   ]
  },
  {
   "cell_type": "code",
   "execution_count": 33,
   "metadata": {},
   "outputs": [
    {
     "name": "stdout",
     "output_type": "stream",
     "text": [
      "----------\n"
     ]
    }
   ],
   "source": [
    "print(10 * \"-\")"
   ]
  }
 ],
 "metadata": {
  "kernelspec": {
   "display_name": "Python 3",
   "language": "python",
   "name": "python3"
  },
  "language_info": {
   "codemirror_mode": {
    "name": "ipython",
    "version": 3
   },
   "file_extension": ".py",
   "mimetype": "text/x-python",
   "name": "python",
   "nbconvert_exporter": "python",
   "pygments_lexer": "ipython3",
   "version": "3.7.3"
  }
 },
 "nbformat": 4,
 "nbformat_minor": 2
}
