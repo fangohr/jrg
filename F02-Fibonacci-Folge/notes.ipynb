{
 "cells": [
  {
   "cell_type": "markdown",
   "metadata": {},
   "source": [
    "# Fibonacci-Folge"
   ]
  },
  {
   "cell_type": "markdown",
   "metadata": {},
   "source": [
    "## Was ist die Fibonacci-Folge\n",
    "Die Fibonacci-Folge ist eine unendliche Folge an Zahlen, bei der jede Zahl durch die Summe der beiden vorhergehenden Zahlen bestimmt ist. Sie lautet also wie folgt:\n",
    "1, 1, 2, 3, 5, 8, 13, 21, 34, ...\n",
    "\n",
    "Mathematisch notiert würde man sagen, dass das $n$-te element der folge ($f_n$) berechnet wird aus der Summe des ($n-1$) und ($n-2$)ten Elements:\n",
    "\n",
    "$ f_n = f_{n-1} + f_{n-2}$ mit $f_0 = 1$ und $f_1 = 1$ mit $n\\ge0$.\n",
    "\n",
    "\n",
    "* Weiteres Hintergrundwissen: https://de.wikipedia.org/wiki/Fibonacci-Folge"
   ]
  },
  {
   "cell_type": "markdown",
   "metadata": {},
   "source": [
    "## Aufgabe 1"
   ]
  },
  {
   "cell_type": "markdown",
   "metadata": {},
   "source": [
    "Überleg Dir eine Funktion mit der die n-te Zahl der Fibonacci-Folge bestimmt werden kann. \n",
    "\n",
    "Hier ist ein Template:"
   ]
  },
  {
   "cell_type": "code",
   "execution_count": null,
   "metadata": {},
   "outputs": [],
   "source": [
    "def fibonacci(n):\n",
    "    pass # Hier muss eure Funktion hin\n",
    "    \n",
    "for i in range(1, 10):\n",
    "    print(fibonacci(i))\n",
    "    \n",
    "# Ausgabe sollte bei euch sein: 1, 1, 2, 3, 5, 8, 13, 21, 34, 55"
   ]
  },
  {
   "cell_type": "code",
   "execution_count": 3,
   "metadata": {},
   "outputs": [],
   "source": [
    "#\n",
    "\n",
    "\n",
    "\n",
    "\n",
    "\n",
    "\n",
    "\n",
    "\n",
    "\n",
    "\n",
    "\n",
    "\n",
    "\n",
    "\n",
    "\n",
    "\n",
    "\n",
    "\n",
    "#"
   ]
  },
  {
   "cell_type": "markdown",
   "metadata": {},
   "source": [
    "\n",
    "\n",
    "\n",
    "\n",
    "\n",
    "\n",
    "\n",
    "\n",
    "\n",
    "\n",
    "\n",
    "\n",
    "\n",
    "\n",
    "\n",
    "\n",
    "\n",
    "\n",
    "\n",
    "\n",
    "\n",
    "\n",
    "## Lösungsmöglichkeiten\n",
    "\n",
    "  2 Lösungswege sind [hier](Fibonacci.ipynb) beschrieben."
   ]
  },
  {
   "cell_type": "markdown",
   "metadata": {},
   "source": [
    "## Aufgabe 2"
   ]
  },
  {
   "cell_type": "markdown",
   "metadata": {},
   "source": [
    "Schreibe eine Funktion `s(n)`, die das $n$-te Element der folgenden Folge berechnet:\n",
    "\n",
    "$s_n = n + s_{n-1}$ mit $s_1 = 1$ und $n \\ge 1$."
   ]
  },
  {
   "cell_type": "code",
   "execution_count": 20,
   "metadata": {},
   "outputs": [
    {
     "name": "stdout",
     "output_type": "stream",
     "text": [
      "1\n",
      "3\n",
      "6\n",
      "10\n",
      "15\n"
     ]
    }
   ],
   "source": [
    "def s(n):\n",
    "    pass  # hier Lösung entwickeln\n",
    "\n",
    "\n",
    "# Test \n",
    "for n in range(1, 6):\n",
    "    print(fs(n))\n",
    "    \n",
    "# Erwartete Lösung ist\n",
    "# 1, 3, 6, 10, 15.\n"
   ]
  },
  {
   "cell_type": "markdown",
   "metadata": {},
   "source": [
    "## Aufgabe 3\n",
    "\n",
    "Wie kann ich $s(n)$ noch berechnen? "
   ]
  }
 ],
 "metadata": {
  "kernelspec": {
   "display_name": "Python 3",
   "language": "python",
   "name": "python3"
  },
  "language_info": {
   "codemirror_mode": {
    "name": "ipython",
    "version": 3
   },
   "file_extension": ".py",
   "mimetype": "text/x-python",
   "name": "python",
   "nbconvert_exporter": "python",
   "pygments_lexer": "ipython3",
   "version": "3.7.5"
  }
 },
 "nbformat": 4,
 "nbformat_minor": 2
}
