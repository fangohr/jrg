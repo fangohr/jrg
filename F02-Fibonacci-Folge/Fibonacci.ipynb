{
 "cells": [
  {
   "cell_type": "markdown",
   "metadata": {},
   "source": [
    "# Fibonacci-Folge"
   ]
  },
  {
   "cell_type": "markdown",
   "metadata": {},
   "source": [
    "## Was ist die Fibonacci-Folge\n",
    "Die Fibonacci-Folge ist eine unendliche Folge an Zahlen, bei der jede Zahl durch die Summe der beiden vorhergehenden Zahlen bestimmt ist. Sie lautet also wie folgt:\n",
    "1, 1, 2, 3, 5, 8, 13, 21, 34, ..."
   ]
  },
  {
   "cell_type": "markdown",
   "metadata": {},
   "source": [
    "Nun überlegt euch eine Funktion mit der ihr die n-te Zahl der Fibonacci-Folge bestimmen könnt."
   ]
  },
  {
   "cell_type": "code",
   "execution_count": 15,
   "metadata": {},
   "outputs": [],
   "source": [
    "def fibonacci(n):\n",
    "    pass # Hier muss eure Funktion hin\n",
    "    \n",
    "for i in range(1, 10):\n",
    "    print(fibonacci(i))\n",
    "# Ausgabe sollte bei euch sein: 1, 1, 2, 3, 5, 8, 13, 21, 34, 55"
   ]
  },
  {
   "cell_type": "markdown",
   "metadata": {},
   "source": [
    "## Lösungsmöglichkeiten"
   ]
  },
  {
   "cell_type": "markdown",
   "metadata": {},
   "source": [
    "### Rekursiv\n",
    "Unter Rekursion versteht man, dass sich Funktionen selber aufrufen, also durch sich selbst definiert sind.\n",
    "Dies können wir anwenden, da wir wissen, dass die n-te Fibonacci-Zahl die Summe der beiden vorherigen ist.\n",
    "Außerdem müssen wir dem Programm die Außnahmefälle 1 und 2 beibringen, da wir zu Bestimmung dieser sonst schon bei 0, beziehungsweise im negativen Bereich wären.\n",
    "Dies sieht dann wie folgt aus.\n",
    "Kopiert diese und andere Lösungen gerne nach oben und überprüft, ob diese wie gewünscht funktionieren."
   ]
  },
  {
   "cell_type": "code",
   "execution_count": 1,
   "metadata": {},
   "outputs": [],
   "source": [
    "def fibonacci(n):\n",
    "    if n is 1 or n is 2:\n",
    "        return 1\n",
    "    else:\n",
    "        return fibonacci(n-1) + fibonacci(n-2)"
   ]
  },
  {
   "cell_type": "markdown",
   "metadata": {},
   "source": [
    "Dies könnte man auch noch etwas kürzer schreiben."
   ]
  },
  {
   "cell_type": "code",
   "execution_count": 2,
   "metadata": {},
   "outputs": [],
   "source": [
    "def fibonacci(n):\n",
    "    return 1 if n <= 2 else fibonacci(n-1) + fibonacci(n-2)"
   ]
  },
  {
   "cell_type": "markdown",
   "metadata": {},
   "source": [
    "Beide Funktionen sind in ihrer Funktionsweise aber gleich.\n",
    "Hier das verhalten der Funktion an einem Beispiel.\n",
    "\n",
    "```\n",
    "fibonacci(5)\n",
    "= fibonacci(4) + fibonacci(3)\n",
    "= fibonacci(4) + fibonacci(2) + fibonacci(1)\n",
    "= fibonacci(4) + 1 + 1\n",
    "= fibonacci(3) + fibonacci(2) + 1 + 1\n",
    "= fibonacci(2) + fibonacci(1) + 1 + 1 + 1\n",
    "= 1 + 1 + 1 + 1 + 1\n",
    "= 5\n",
    "```\n",
    "So könnten wir also zeigen, dass die fünfte Fibonacci-Zahl 5 ist.\n",
    "Hierbei beginnen wir also mit von \"hinten\" bei den hohen Zahlen."
   ]
  },
  {
   "cell_type": "markdown",
   "metadata": {},
   "source": [
    "### Iterativ\n",
    "Wir können die n-te Zahl in der Folge auch bestimmen, indem wir unten in der Folge beginnen.\n",
    "Wir müssen uns also die beiden letzten Zahlen merken, die wir berechnet haben, um mit diesen die nächste zu bestimmen.\n",
    "Nennen wir diese beiden a und b. A ist hierbei das aktuelle Zwischenergebnis und b das vorherige, welches wir für die Berechnung des nächsten Wertes brauchen."
   ]
  },
  {
   "cell_type": "code",
   "execution_count": 3,
   "metadata": {},
   "outputs": [],
   "source": [
    "def fibonacci(n):\n",
    "    a = 1\n",
    "    b = 0\n",
    "    for i in range(n-1):\n",
    "        old_a = a\n",
    "        a = a + b\n",
    "        b = old_a\n",
    "    return a"
   ]
  },
  {
   "cell_type": "markdown",
   "metadata": {},
   "source": [
    "Diese Funktion können wir allerdings noch etwas kürzer und schöner schreiben."
   ]
  },
  {
   "cell_type": "code",
   "execution_count": 2,
   "metadata": {},
   "outputs": [],
   "source": [
    "def fibonacci(n):\n",
    "    a, b = 1, 0\n",
    "    for _ in range(n-1):\n",
    "        a,b = a + b, a\n",
    "    return a"
   ]
  },
  {
   "cell_type": "markdown",
   "metadata": {},
   "source": [
    "Dies waren nun 2 Möglichkeiten das Problem zu lösen.\n",
    "Sollten euch nun noch weitere einfallen, dann probiert sie gerne aus."
   ]
  }
 ],
 "metadata": {
  "kernelspec": {
   "display_name": "Python 3",
   "language": "python",
   "name": "python3"
  },
  "language_info": {
   "codemirror_mode": {
    "name": "ipython",
    "version": 3
   },
   "file_extension": ".py",
   "mimetype": "text/x-python",
   "name": "python",
   "nbconvert_exporter": "python",
   "pygments_lexer": "ipython3",
   "version": "3.7.5"
  }
 },
 "nbformat": 4,
 "nbformat_minor": 2
}
