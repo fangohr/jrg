{
 "cells": [
  {
   "cell_type": "markdown",
   "metadata": {},
   "source": [
    "# Mit Python Primzahlen finden"
   ]
  },
  {
   "cell_type": "markdown",
   "metadata": {},
   "source": [
    "## 1. Ein nicht sehr effektiver Algorithmus"
   ]
  },
  {
   "cell_type": "markdown",
   "metadata": {},
   "source": [
    "Im nachfolgenden Teil werden wir versuchen, einen Primzahlfilter zu schreiben, der uns die Primzahlen aus einem gegebenen Intervall zurückgibt."
   ]
  },
  {
   "cell_type": "markdown",
   "metadata": {},
   "source": [
    "##### Was ist eine Primzahl?"
   ]
  },
  {
   "cell_type": "markdown",
   "metadata": {},
   "source": [
    "Eine Primzahl ist eine Zahl die nur durch sich selbst und durch eins Teilbar ist. 1 (Eins) ist keine Primzahl. 2 (Zwei) ist die erste Primzahl und die einzig gerade.\n",
    "Mit diesem Wissen koennen wir nun anfangen"
   ]
  },
  {
   "cell_type": "markdown",
   "metadata": {},
   "source": [
    "##### Ist eine Zahl eine Primzahl?"
   ]
  },
  {
   "cell_type": "markdown",
   "metadata": {},
   "source": [
    "Wir schreiben eine Funktion, die:\n",
    "* eine natuerliche Zahl a als Argument bekommt\n",
    "* entweder _True_ oder _False_ zurueckgibt, je nachdem ob es sich um eine Primzahl handelt"
   ]
  },
  {
   "cell_type": "code",
   "execution_count": 3,
   "metadata": {
    "collapsed": true
   },
   "outputs": [],
   "source": [
    "def is_prime(a):\n",
    "    if a == 1:\n",
    "        return False\n",
    "    if a == 2:\n",
    "        return True\n",
    "    \n",
    "    for i in range(2,a):\n",
    "        if a % i == 0:\n",
    "            return False\n",
    "    return True"
   ]
  },
  {
   "cell_type": "code",
   "execution_count": 4,
   "metadata": {
    "collapsed": false
   },
   "outputs": [
    {
     "data": {
      "text/plain": [
       "True"
      ]
     },
     "execution_count": 4,
     "metadata": {},
     "output_type": "execute_result"
    }
   ],
   "source": [
    "is_prime(7)"
   ]
  },
  {
   "cell_type": "markdown",
   "metadata": {},
   "source": [
    "Diese Funktion funktioniert und entscheided wahrheitsgemaess, ob es sich bei dem Argument um eine Primzahl handelt oder nicht. Nun werden wir eine Liste an Primzahlen ausgeben. Hier zwei Ansaetze:"
   ]
  },
  {
   "cell_type": "markdown",
   "metadata": {},
   "source": [
    "###### Mit einer Schleife:"
   ]
  },
  {
   "cell_type": "code",
   "execution_count": 5,
   "metadata": {
    "collapsed": true
   },
   "outputs": [],
   "source": [
    "def primelist(upper_boundry):\n",
    "    a = [2]\n",
    "    for i in range(3, upper_boundry, 2):\n",
    "        if is_prime(i):\n",
    "            a.append(i)\n",
    "    return a"
   ]
  },
  {
   "cell_type": "code",
   "execution_count": 10,
   "metadata": {
    "collapsed": false
   },
   "outputs": [
    {
     "data": {
      "text/plain": [
       "[2, 3, 5, 7, 11, 13, 17, 19, 23, 29, 31, 37, 41, 43, 47]"
      ]
     },
     "execution_count": 10,
     "metadata": {},
     "output_type": "execute_result"
    }
   ],
   "source": [
    "primelist(50)"
   ]
  },
  {
   "cell_type": "markdown",
   "metadata": {},
   "source": [
    "###### Der funktionale Ansatz:"
   ]
  },
  {
   "cell_type": "code",
   "execution_count": 26,
   "metadata": {
    "collapsed": true
   },
   "outputs": [],
   "source": [
    "def primelist_fun(upper_boundry):\n",
    "    return list(filter(is_prime, range(1,upper_boundry)))"
   ]
  },
  {
   "cell_type": "code",
   "execution_count": 27,
   "metadata": {
    "collapsed": false
   },
   "outputs": [
    {
     "data": {
      "text/plain": [
       "[2, 3, 5, 7, 11, 13, 17, 19, 23, 29, 31, 37, 41, 43, 47]"
      ]
     },
     "execution_count": 27,
     "metadata": {},
     "output_type": "execute_result"
    }
   ],
   "source": [
    "primelist_fun(50)"
   ]
  },
  {
   "cell_type": "markdown",
   "metadata": {},
   "source": [
    "Nun haben wir einen \"Primzahlgenerator\", der uns eine List von Primzahlen ausgibt. Allerdings ist dieser Ansatz ziemlich ineffizient. Wie koennte man den Generator nun verbessern? "
   ]
  },
  {
   "cell_type": "markdown",
   "metadata": {},
   "source": [
    "## Ein besserer Algorithmus:"
   ]
  },
  {
   "cell_type": "markdown",
   "metadata": {},
   "source": [
    "Jede natuerliche Zahl, die keine Primzahl ist, laesst sich als produkt aus Primzahlen darstellen. Die Zahl 10 laesst sich in die Primzahlfaktoren  5 und 2 zerlegen.\n",
    "\n",
    "**Primzahlfaktoren anderer Zahlen:**\n",
    "\n",
    "`` \n",
    "10  ->  [2, 5]\n",
    "12  ->  [2, 2, 3]\n",
    "14  ->  [2, 7]\n",
    "27  ->  [3, 9]\n",
    "``"
   ]
  },
  {
   "cell_type": "markdown",
   "metadata": {},
   "source": [
    "**Also:**\n",
    "Wenn eine Zahl keine Primzahl ist, laesst sie sich also als Produkt von Primzahlen darstellen. Somit muessen wir bei der Probe von Primzahlen nur pruefen, ob unser Kandidat durch irgendeine Primzahl teilbar ist."
   ]
  },
  {
   "cell_type": "code",
   "execution_count": 28,
   "metadata": {
    "collapsed": true
   },
   "outputs": [],
   "source": [
    "def better_primecheck(candidate, found_primes):\n",
    "    for i in found_primes:\n",
    "        if candidate % i == 0:\n",
    "            return found_primes\n",
    "    found_primes.append(candidate)\n",
    "    return found_primes"
   ]
  },
  {
   "cell_type": "code",
   "execution_count": 32,
   "metadata": {
    "collapsed": false
   },
   "outputs": [
    {
     "data": {
      "text/plain": [
       "[2, 3]"
      ]
     },
     "execution_count": 32,
     "metadata": {},
     "output_type": "execute_result"
    }
   ],
   "source": [
    "better_primecheck(3,[2])"
   ]
  },
  {
   "cell_type": "markdown",
   "metadata": {},
   "source": [
    "Die Funktion gibt uns eine Liste zurueck, die eventuell ein neues Element enthaelt. Wenn der Kandidat hinzugefuegt wurde dann handelt es sich entweder um eine Primzahl, oder ``found_primes`` ist zu kurz. Nun schreiben wir einen Generator basierend auf diesen Erkenntnissen:"
   ]
  },
  {
   "cell_type": "code",
   "execution_count": 33,
   "metadata": {
    "collapsed": true
   },
   "outputs": [],
   "source": [
    "def primgen_better(upper_limit):\n",
    "    a = [2]\n",
    "    for i in range(3, upper_limit, 2):\n",
    "        a = better_primecheck(i, a)\n",
    "    return a"
   ]
  },
  {
   "cell_type": "code",
   "execution_count": 37,
   "metadata": {
    "collapsed": false
   },
   "outputs": [
    {
     "data": {
      "text/plain": [
       "[2, 3, 5, 7, 11, 13, 17, 19, 23, 29, 31, 37, 41, 43, 47]"
      ]
     },
     "execution_count": 37,
     "metadata": {},
     "output_type": "execute_result"
    }
   ],
   "source": [
    "primgen_better(50)"
   ]
  },
  {
   "cell_type": "code",
   "execution_count": null,
   "metadata": {
    "collapsed": true
   },
   "outputs": [],
   "source": []
  },
  {
   "cell_type": "code",
   "execution_count": null,
   "metadata": {
    "collapsed": true
   },
   "outputs": [],
   "source": []
  }
 ],
 "metadata": {
  "kernelspec": {
   "display_name": "Python [default]",
   "language": "python",
   "name": "python3"
  },
  "language_info": {
   "codemirror_mode": {
    "name": "ipython",
    "version": 3
   },
   "file_extension": ".py",
   "mimetype": "text/x-python",
   "name": "python",
   "nbconvert_exporter": "python",
   "pygments_lexer": "ipython3",
   "version": "3.4.5"
  }
 },
 "nbformat": 4,
 "nbformat_minor": 2
}
