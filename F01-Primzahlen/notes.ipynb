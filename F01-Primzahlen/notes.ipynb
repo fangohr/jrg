{
 "cells": [
  {
   "cell_type": "markdown",
   "metadata": {},
   "source": [
    "# Mit Python Primzahlen finden"
   ]
  },
  {
   "cell_type": "markdown",
   "metadata": {},
   "source": [
    "## 1. Ein nicht sehr effektiver Algorithmus"
   ]
  },
  {
   "cell_type": "markdown",
   "metadata": {},
   "source": [
    "Im nachfolgenden Teil werden wir versuchen, einen Primzahlfilter zu schreiben, der uns die Primzahlen aus einem gegebenen Intervall zurückgibt."
   ]
  },
  {
   "cell_type": "markdown",
   "metadata": {},
   "source": [
    "##### Was ist eine Primzahl?"
   ]
  },
  {
   "cell_type": "markdown",
   "metadata": {},
   "source": [
    "Eine Primzahl ist eine Zahl die nur durch sich selbst und durch eins Teilbar ist. 1 (Eins) ist keine Primzahl. 2 (Zwei) ist die erste Primzahl und die einzig gerade.\n",
    "Mit diesem Wissen koennen wir nun anfangen"
   ]
  },
  {
   "cell_type": "markdown",
   "metadata": {},
   "source": [
    "##### Ist eine Zahl eine Primzahl?"
   ]
  },
  {
   "cell_type": "markdown",
   "metadata": {},
   "source": [
    "# Aufgabe 1: `is_prime`"
   ]
  },
  {
   "cell_type": "markdown",
   "metadata": {},
   "source": [
    "Schreiben eine Funktion `is_prime(a)`, die:\n",
    "* eine natuerliche Zahl a als Argument bekommt\n",
    "* entweder `True` oder `False` zurueckgibt, je nachdem ob es sich um eine Primzahl handelt."
   ]
  },
  {
   "cell_type": "code",
   "execution_count": null,
   "metadata": {
    "collapsed": true
   },
   "outputs": [],
   "source": [
    "def is_prime(a):\n",
    "    \"\"\" Für eine gegebene natürliche Zahl a, gebe True oder False\n",
    "    zurueck: True falls a eine Primzahl ist, ansonsten False.\"\"\"\n",
    "    # die nächste Zeile kann gelöscht werden, wenn Du anfängst zu arbeiten\n",
    "    raise NotImplementedError(\"Hier muss die Lösung entwickelt werden.\")\n"
   ]
  },
  {
   "cell_type": "markdown",
   "metadata": {},
   "source": [
    "Wir testen für ein paar ausgewählte Zahlen, ob die Funktion richtig funktioniert:"
   ]
  },
  {
   "cell_type": "code",
   "execution_count": null,
   "metadata": {
    "collapsed": false
   },
   "outputs": [],
   "source": [
    "# 6 ist keine Primzahl\n",
    "assert is_prime(6) == False"
   ]
  },
  {
   "cell_type": "code",
   "execution_count": null,
   "metadata": {
    "collapsed": true
   },
   "outputs": [],
   "source": [
    "# 7 ist eine Primzahl\n",
    "assert is_prime(7) == True"
   ]
  },
  {
   "cell_type": "code",
   "execution_count": null,
   "metadata": {
    "collapsed": true
   },
   "outputs": [],
   "source": [
    "# 2 ist eine Primzahl\n",
    "assert is_prime(2) == True"
   ]
  },
  {
   "cell_type": "markdown",
   "metadata": {},
   "source": [
    "## Aufgabe 2: `primelist`"
   ]
  },
  {
   "cell_type": "markdown",
   "metadata": {},
   "source": [
    "Schreibe eine Funktion `primelist(n)`, die eine Liste mit allen Primzahlen bis `n` zurück gibt. \n",
    "\n",
    "Beispiele:\n",
    "\n",
    "```\n",
    ">>> primelist(2)\n",
    "[2]\n",
    ">>> primelist(15)\n",
    "[2, 3, 5, 7, 11, 13]\n",
    ">>> primelist(50)\n",
    "[2, 3, 5, 7, 11, 13, 17, 19, 23, 29, 31, 37, 41, 43, 47]\n",
    "```"
   ]
  },
  {
   "cell_type": "code",
   "execution_count": null,
   "metadata": {
    "collapsed": true
   },
   "outputs": [],
   "source": [
    "def primelist(n):\n",
    "    \"\"\"Berechne eine Liste, die alle Primzahlen bis n beinhaltet.\"\"\"\n",
    "    raise NotImplementedError(\"Funktion ist noch nicht geschrieben\")"
   ]
  },
  {
   "cell_type": "markdown",
   "metadata": {},
   "source": [
    "Hier sind ein paar Tests:"
   ]
  },
  {
   "cell_type": "code",
   "execution_count": null,
   "metadata": {
    "collapsed": true
   },
   "outputs": [],
   "source": [
    "assert primelist(2) == [2]"
   ]
  },
  {
   "cell_type": "code",
   "execution_count": null,
   "metadata": {
    "collapsed": true
   },
   "outputs": [],
   "source": [
    "assert primelist(3) == [2, 3]"
   ]
  },
  {
   "cell_type": "code",
   "execution_count": null,
   "metadata": {
    "collapsed": true
   },
   "outputs": [],
   "source": [
    "assert primelist(6) == [2, 3, 5]"
   ]
  },
  {
   "cell_type": "code",
   "execution_count": null,
   "metadata": {
    "collapsed": true
   },
   "outputs": [],
   "source": [
    "assert primelist(0) == []"
   ]
  },
  {
   "cell_type": "markdown",
   "metadata": {},
   "source": [
    "# Aufgabe 3: Ein besserer Algorithmus\n"
   ]
  },
  {
   "cell_type": "markdown",
   "metadata": {
    "collapsed": true
   },
   "source": [
    "Hast Du Ideen, wie wir unsere Algorithmen verbessern können?\n",
    "\n",
    "* Was heißt \"besser\"?\n",
    "\n",
    "* Schreibe eine neue Funktion `primelist2(n)` und vergleiche sie mit `primelist(n)`."
   ]
  },
  {
   "cell_type": "markdown",
   "metadata": {
    "collapsed": true
   },
   "source": [
    "[Eine Definition von besser ist \"schneller\".]"
   ]
  },
  {
   "cell_type": "markdown",
   "metadata": {},
   "source": [
    "## Rechenzeit messen mit `%time`"
   ]
  },
  {
   "cell_type": "markdown",
   "metadata": {},
   "source": [
    "Du kannst die (\"magische\") Funktion `%time` im Jupyter Notebook benutzen, um Ausführgeschwindigkeiten zu meßen. Hier ist ein Beispiel, in dem wir $\\sqrt(2)$ auf 2 verschiedene Arten berechnen:\n"
   ]
  },
  {
   "cell_type": "code",
   "execution_count": 1,
   "metadata": {
    "collapsed": false
   },
   "outputs": [
    {
     "name": "stdout",
     "output_type": "stream",
     "text": [
      "CPU times: user 2 µs, sys: 1e+03 ns, total: 3 µs\n",
      "Wall time: 5.96 µs\n"
     ]
    },
    {
     "data": {
      "text/plain": [
       "1.4142135623730951"
      ]
     },
     "execution_count": 1,
     "metadata": {},
     "output_type": "execute_result"
    }
   ],
   "source": [
    "%time 2**0.5"
   ]
  },
  {
   "cell_type": "code",
   "execution_count": 2,
   "metadata": {
    "collapsed": true
   },
   "outputs": [],
   "source": [
    "import math"
   ]
  },
  {
   "cell_type": "code",
   "execution_count": 3,
   "metadata": {
    "collapsed": false
   },
   "outputs": [
    {
     "name": "stdout",
     "output_type": "stream",
     "text": [
      "CPU times: user 5 µs, sys: 0 ns, total: 5 µs\n",
      "Wall time: 9.78 µs\n"
     ]
    },
    {
     "data": {
      "text/plain": [
       "1.4142135623730951"
      ]
     },
     "execution_count": 3,
     "metadata": {},
     "output_type": "execute_result"
    }
   ],
   "source": [
    "%time math.sqrt(2)"
   ]
  }
 ],
 "metadata": {
  "kernelspec": {
   "display_name": "Python [default]",
   "language": "python",
   "name": "python3"
  },
  "language_info": {
   "codemirror_mode": {
    "name": "ipython",
    "version": 3
   },
   "file_extension": ".py",
   "mimetype": "text/x-python",
   "name": "python",
   "nbconvert_exporter": "python",
   "pygments_lexer": "ipython3",
   "version": "3.4.5"
  }
 },
 "nbformat": 4,
 "nbformat_minor": 2
}
