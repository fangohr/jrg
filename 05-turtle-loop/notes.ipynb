{
 "cells": [
  {
   "cell_type": "markdown",
   "metadata": {},
   "source": [
    "# Turtle in the loop"
   ]
  },
  {
   "cell_type": "markdown",
   "metadata": {},
   "source": [
    "Schreibe die folgenden Programme mit Hilfe der `for`-Schleife."
   ]
  },
  {
   "cell_type": "markdown",
   "metadata": {},
   "source": [
    "## Aufgabe 1\n",
    "\n",
    "Schreibe eine Funktion `n_eck(t, c, e)`, die die Anzahl der Ecken `c` (`c`für `C`orner) und Kantenlänge `e` (`e` für `E`dge) akzeptiert und mit der Turtle `t` zeichnet.\n",
    "\n",
    "Du solltest jetzt in der Lage sein, mit den folgenden Aufrufen ein \n",
    "\n",
    "- Dreick: `n_eck(t, 3, 50)`\n",
    "- Quadrat: `n_eck(t, 4, 50)`\n",
    "- Fünfeck: `n_eck(t, 5, 50)` und\n",
    "- Sechseck: `n_eck(t, 6, 50)` zu zeichnen.\n",
    "\n",
    "Vielleicht musst Du die Kantenlänge etwas varieren, wenn diese regelmäßigen Polyeder zu groß werden.\n",
    "\n",
    "Ein Turtleobjekt `t` kannst Du zum Beispiel so erzeugen:\n",
    "\n",
    "```\n",
    "import turtle \n",
    "\n",
    "t = turtle.Turtle()\n",
    "```\n",
    "\n"
   ]
  },
  {
   "cell_type": "markdown",
   "metadata": {},
   "source": [
    "# Aufgabe 2a - Stern\n",
    "\n",
    "Aufgabe 2a: Kannst Du ein Programm schreiben, das die folgende Abbildung erzeugt?\n",
    "\n",
    "![star.png](star.png)\n",
    "\n",
    "# Aufgabe 2b - wachsender Stern\n",
    "\n",
    "Aufgabe 2b: Kannst Du ein Programm schreiben, das die folgende Abbildung erzeugt?\n",
    "\n",
    "![spiral.png](spiral.png)"
   ]
  },
  {
   "cell_type": "markdown",
   "metadata": {},
   "source": [
    "# Beispiel Rasende Schildkröten – Turtlegeschwindigkeit\n",
    "\n",
    "Hier lernst Du  \n",
    "- wie man die Geschwindigkeit der Schildkröte ändern kann\n",
    "- wie man die `help` Funktion benutzen kann"
   ]
  },
  {
   "cell_type": "code",
   "execution_count": null,
   "metadata": {
    "collapsed": true
   },
   "outputs": [],
   "source": [
    "import turtle \n",
    "\n",
    "ninja = turtle.Turtle()\n",
    "\n",
    "# according to the documentation: 6 is normal, 0 is fast, 10 is slow\n",
    "\n",
    "ninja.speed(0)\n",
    "\n",
    "for i in range(45):\n",
    "    ninja.forward(100)\n",
    "    ninja.right(30)\n",
    "    ninja.forward(20)\n",
    "    ninja.left(60)\n",
    "    ninja.forward(50)\n",
    "    ninja.right(30)\n",
    "    \n",
    "    ninja.penup()\n",
    "    ninja.setposition(0, 0)\n",
    "    ninja.pendown()\n",
    "    \n",
    "    ninja.right(8)\n",
    "    \n",
    "turtle.done()\n",
    "turtle.bye()"
   ]
  },
  {
   "cell_type": "markdown",
   "metadata": {},
   "source": [
    "Wir könnnen die `help` Funktion benutzen, um mehr über die `speed` Funktion zu lernen:"
   ]
  },
  {
   "cell_type": "code",
   "execution_count": 3,
   "metadata": {
    "collapsed": false
   },
   "outputs": [
    {
     "name": "stdout",
     "output_type": "stream",
     "text": [
      "Help on method speed in module turtle:\n",
      "\n",
      "speed(speed=None) method of turtle.Turtle instance\n",
      "    Return or set the turtle's speed.\n",
      "    \n",
      "    Optional argument:\n",
      "    speed -- an integer in the range 0..10 or a speedstring (see below)\n",
      "    \n",
      "    Set the turtle's speed to an integer value in the range 0 .. 10.\n",
      "    If no argument is given: return current speed.\n",
      "    \n",
      "    If input is a number greater than 10 or smaller than 0.5,\n",
      "    speed is set to 0.\n",
      "    Speedstrings  are mapped to speedvalues in the following way:\n",
      "        'fastest' :  0\n",
      "        'fast'    :  10\n",
      "        'normal'  :  6\n",
      "        'slow'    :  3\n",
      "        'slowest' :  1\n",
      "    speeds from 1 to 10 enforce increasingly faster animation of\n",
      "    line drawing and turtle turning.\n",
      "    \n",
      "    Attention:\n",
      "    speed = 0 : *no* animation takes place. forward/back makes turtle jump\n",
      "    and likewise left/right make the turtle turn instantly.\n",
      "    \n",
      "    Example (for a Turtle instance named turtle):\n",
      "    >>> turtle.speed(3)\n",
      "\n"
     ]
    }
   ],
   "source": [
    "help(ninja.speed)"
   ]
  },
  {
   "cell_type": "markdown",
   "metadata": {},
   "source": [
    "## Aufgabe 3\n",
    "\n",
    "- Ändere die Geschwindigkeit der Schildkröte in dem Ninjabeispielprogramm."
   ]
  },
  {
   "cell_type": "markdown",
   "metadata": {},
   "source": [
    "# Aufgabe 4\n",
    "\n",
    "Kannst Du ein Programm schreiben, dass die folgende Abbildung erstellt:\n",
    "\n",
    "[Benjamin - hier kann dein Bild rein]\n",
    "\n",
    "[Vielleich auch zwei: erst nur mit links Drehung (3a), dann das kombinierte mit Rechts und Linksdrehung (3b)?]"
   ]
  },
  {
   "cell_type": "code",
   "execution_count": null,
   "metadata": {
    "collapsed": true
   },
   "outputs": [],
   "source": []
  }
 ],
 "metadata": {
  "kernelspec": {
   "display_name": "Python [default]",
   "language": "python",
   "name": "python3"
  },
  "language_info": {
   "codemirror_mode": {
    "name": "ipython",
    "version": 3
   },
   "file_extension": ".py",
   "mimetype": "text/x-python",
   "name": "python",
   "nbconvert_exporter": "python",
   "pygments_lexer": "ipython3",
   "version": "3.4.5"
  }
 },
 "nbformat": 4,
 "nbformat_minor": 2
}
