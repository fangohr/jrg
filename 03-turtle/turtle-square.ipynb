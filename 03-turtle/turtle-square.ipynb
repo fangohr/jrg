{
 "cells": [
  {
   "cell_type": "markdown",
   "metadata": {},
   "source": [
    "# Ein Quadrat zeichnen\n",
    "\n",
    "(Von https://michael0x2a.com/blog/turtle-examples)\n",
    "\n"
   ]
  },
  {
   "cell_type": "markdown",
   "metadata": {},
   "source": [
    "Für jedes Turtleprogramm müssen wir ein Turtleobjekt erzeugen (vorher die Bibliothek importieren), und am Ende `turtle.todo()` aufrufen.\n",
    "\n",
    "Dazwischen können wir allerdings viel mit der Schildkröte anfangen. Hier ist ein neues Beispiel:"
   ]
  },
  {
   "cell_type": "code",
   "execution_count": 1,
   "metadata": {},
   "outputs": [],
   "source": [
    "import turtle\n",
    "anton = turtle.Turtle()       # heute heißt die Schildkröte Anton\n",
    "\n",
    "# Hier beginnt das eigentliche Programm:\n",
    "anton.forward(50)\n",
    "anton.right(90)               # um 90 Grad nach rechts drehen (um Uhrzeigersinn)\n",
    "\n",
    "anton.forward(50)\n",
    "anton.right(90)\n",
    "\n",
    "anton.forward(50)\n",
    "anton.right(90)\n",
    "\n",
    "anton.forward(50)\n",
    "anton.right(90)\n",
    "\n",
    "# Bescheid sagen, dass wir fertig (engl: *done*) sind \n",
    "turtle.done()"
   ]
  },
  {
   "cell_type": "markdown",
   "metadata": {},
   "source": [
    "Du solltest folgendes Bild in einem neuen Fester sehen:\n",
    "![Turtle square](turtle-square.png)\n",
    "\n",
    "\n"
   ]
  }
 ],
 "metadata": {
  "kernelspec": {
   "display_name": "Python 3",
   "language": "python",
   "name": "python3"
  },
  "language_info": {
   "codemirror_mode": {
    "name": "ipython",
    "version": 3
   },
   "file_extension": ".py",
   "mimetype": "text/x-python",
   "name": "python",
   "nbconvert_exporter": "python",
   "pygments_lexer": "ipython3",
   "version": "3.7.3"
  }
 },
 "nbformat": 4,
 "nbformat_minor": 2
}
