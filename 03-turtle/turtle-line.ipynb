{
 "cells": [
  {
   "cell_type": "markdown",
   "metadata": {},
   "source": [
    "# Eine Linie zeichnen\n",
    "\n",
    "(Von https://michael0x2a.com/blog/turtle-examples)\n",
    "\n"
   ]
  },
  {
   "cell_type": "markdown",
   "metadata": {},
   "source": [
    "Die Schildkröte (engl: *turtle*) ist ein Objekt, das wir mit Befehlen lenken können. Während sich die turtle bewegt, kann sie eine Linie zeichnen.\n",
    "\n",
    "Hier ist ein Beispiel:\n",
    "\n",
    "Example 1: Draw a line\n",
    "One of the simplest things you can do using the turtle module is to draw a line. There are always four steps you need to do in order to use the turtle module:\n",
    "\n",
    "Import the turtle module. If we skip this step, there’ll be no turtle to control.\n",
    "Create a turtle to control.\n",
    "Draw things. Do stuff. This will also automatically create the screen.\n",
    "Run turtle.done(). (NOT bob.done()!)\n",
    "Notice that turtle.done() will pause the program. You’ll need to close the window in order to continue."
   ]
  },
  {
   "cell_type": "code",
   "execution_count": 1,
   "metadata": {},
   "outputs": [],
   "source": [
    "# Schritt 1: Zugriff auf die \"turtle\" Bibliothek bekommen\n",
    "import turtle\n",
    "\n",
    "# Schritt 2: Eine Schildkröte erzeugen. Wir nennen sie \"lisa\". \n",
    "# (Variablenname wie \"lisa\" werde im allgemeinen klein geschrieben.)\n",
    "lisa = turtle.Turtle()\n",
    "\n",
    "# Schritt 3: Bewege lisa 50 Pixel (Punkte) in die Richtung, in die sie bereits guckt.\n",
    "lisa.forward(50)\n",
    "\n",
    "# Schritt 4: Bescheid sagen, dass wir fertig (engl: *done*) sind \n",
    "turtle.done()\n"
   ]
  },
  {
   "cell_type": "markdown",
   "metadata": {},
   "source": [
    "Du solltest folgendes Bild in einem neuen Fester sehen:\n",
    "![Turtle line](turtle-line.png)\n",
    "\n",
    "Bevor Du das naechste Programme ausführen kannst, mußt möglicherweise das Fenster mit der Ausgabe (*output*) von der turtle schließen."
   ]
  },
  {
   "cell_type": "markdown",
   "metadata": {},
   "source": [
    "## Jupyter Notebook\n",
    "\n",
    "Falls Du das Jupyter Notebook benutzt, mußt Du unter Umstaenden den Kernel neu starten (``Kernel -> Restart``) bevor Du ein zweites turtle programmm ausfuehren kannst.\n",
    "\n",
    "Oder eine dieser Jupyter turtle Erweiterungen installieren (ungetestet):\n",
    "- https://github.com/takluyver/mobilechelonian\n",
    "- https://medium.com/@jiyuanli93/how-to-make-python-turtle-works-in-jupyter-notebook-6c506b9a973f "
   ]
  }
 ],
 "metadata": {
  "kernelspec": {
   "display_name": "Python 3",
   "language": "python",
   "name": "python3"
  },
  "language_info": {
   "codemirror_mode": {
    "name": "ipython",
    "version": 3
   },
   "file_extension": ".py",
   "mimetype": "text/x-python",
   "name": "python",
   "nbconvert_exporter": "python",
   "pygments_lexer": "ipython3",
   "version": "3.7.3"
  }
 },
 "nbformat": 4,
 "nbformat_minor": 2
}
