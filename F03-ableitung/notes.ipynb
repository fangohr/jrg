{
 "cells": [
  {
   "cell_type": "markdown",
   "metadata": {},
   "source": [
    "# Ableitungen von Funktionen numerisch berechnen"
   ]
  },
  {
   "cell_type": "markdown",
   "metadata": {},
   "source": [
    "## Was ist die Ableitung?\n",
    "\n",
    "Die Ableitung einer Funktion $f(x)$ wird häufig $f'(x)$ oder $\\frac{\\mathrm{d}f(x)}{\\mathrm{d}x}$ geschrieben, und Beschreibt die *Steigung* der Funktion $f(x)$ an der Stelle $x$.\n",
    "\n",
    "## Beispiel: lineare Funktion\n",
    "\n",
    "Für $f(x)= mx + b$ ist die Steigung durch $m$ gegeben. "
   ]
  },
  {
   "cell_type": "markdown",
   "metadata": {},
   "source": [
    "![lineare-funktion1.png]"
   ]
  },
  {
   "cell_type": "code",
   "execution_count": null,
   "metadata": {},
   "outputs": [],
   "source": []
  }
 ],
 "metadata": {
  "kernelspec": {
   "display_name": "Python 3",
   "language": "python",
   "name": "python3"
  },
  "language_info": {
   "codemirror_mode": {
    "name": "ipython",
    "version": 3
   },
   "file_extension": ".py",
   "mimetype": "text/x-python",
   "name": "python",
   "nbconvert_exporter": "python",
   "pygments_lexer": "ipython3",
   "version": "3.7.4"
  }
 },
 "nbformat": 4,
 "nbformat_minor": 2
}
