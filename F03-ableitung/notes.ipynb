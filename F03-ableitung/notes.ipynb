{
 "cells": [
  {
   "cell_type": "markdown",
   "metadata": {},
   "source": [
    "# Ableitungen von Funktionen numerisch berechnen"
   ]
  },
  {
   "cell_type": "markdown",
   "metadata": {},
   "source": [
    "## Was ist die Ableitung?\n",
    "\n",
    "Die Ableitung einer Funktion $f(x)$ wird häufig $f'(x)$ oder $\\frac{\\mathrm{d}f(x)}{\\mathrm{d}x}$ geschrieben, und Beschreibt die *Steigung* der Funktion $f(x)$ an der Stelle $x$.\n",
    "\n",
    "## Beispiel: lineare Funktion\n",
    "\n",
    "Für $f(x)= mx + b$ ist die Steigung durch $m$ gegeben. \n",
    "\n",
    "### Beispiel: $f(x)=2x -1$\n",
    "\n",
    "Der Graph der Funktion $f(x) = 2x-1$ zeigt, wie wir bei linearen Funktionen die Steigung messen können:\n",
    "<img src=\"lineare-funktion0.png\" width=\"300\">\n",
    "<!--\n",
    "![Lineare Funktion mit positiver Steigung](lineare-funktion0.png \"f(x)=2x-1\")\n",
    "![Lineare Funktion mit negativer Steigung](lineare-funktion2.png \"f(x)=-2x+1\")\n",
    "-->\n",
    "\n",
    "Wir gehen eine Einheit auf der x-Achse nach rechts (in diesem Beispiel $\\Delta x=1$, und ermitteln wieviel sich die Funktion in y-Richtung ändert (in diesem Beispiel $\\Delta y = 2$). Die Steigung ist dann durch \n",
    "$$\\frac{\\Delta x}{\\Delta y} = \\frac{2}{1} = 2$$ gegeben.\n"
   ]
  },
  {
   "cell_type": "markdown",
   "metadata": {},
   "source": [
    "## Berechnung der Ableitung\n",
    "\n",
    "Die Ableitung einer Funktion kann auf 2 Wegen berechnet werden\n",
    "\n",
    "### Analytische Berechnung\n",
    "\n",
    "Wenn wir die Formel der Funktion $f(x)$ kennen, und die richtigen Regeln kennen, können wir die Ableitung von $f$ berechnen. Zum Beispiel für $f(x) = 2x -1$ können wir mit Hilfe der Regeln ausrechnen, dass die Ableitung für alle Werte von $x$ 2 ist: $f'(x) = 2$. Wir wollen diese Regeln hier nicht beschreiben – das wird im Mathematikunterricht gemacht (ab Klasse 9?).\n",
    "\n",
    "### Numerische Berechnung\n",
    "\n",
    "Wir können die Ableitung aber auch *numerisch* ausrechnen. Das ist nur eine Näherung der Ableitung (also nicht ganz exakt), aber besser als gar keine Information zu haben.\n",
    "\n",
    "Dafür brauchen wir keine solche Regeln, sondern können ein Formel anwenden. Das geht wie folgt:\n",
    "\n",
    "Die (numerisch berechnte) Ableitung der Funktion $f(x)$ ist gegeben durch \n",
    "$$ f'(x) \\approx \\frac{f(x+h) - f(x-h)}{2h}$$.\n",
    "\n",
    "Dabei ist $h$ ein kleiner Wert, zB 0,1 . Im Allgemeinen wird $f'(x)$ umso genauer, desto kleiner $h$ ist. ($h$ darf aber nicht kleiner als etwa $~10^{-15}$ werden. Ein guter Startwert ist $10^{-6} = 0.000001$). In Python können wir dafür `h = 1e-6` schreiben. \n",
    "\n",
    "# Aufgaben\n",
    "\n",
    "## Aufgabe 1 – implementiere `ableitung(f, x)`\n",
    "\n",
    "Schreibe eine Funktion `ableitung(f, x)`, die eine Funktion `f` entgegen nimmt, und eine Position `x`. Die Funktion `ableitung(f, x)` soll dann die numerische Ableitung der Funktion `f` berechnen. Hier ist ein Template:\n",
    "\n",
    "\n"
   ]
  },
  {
   "cell_type": "code",
   "execution_count": 16,
   "metadata": {},
   "outputs": [],
   "source": [
    "def ableitung(f, x):\n",
    "    \"\"\"Für eine Funktion y=f(x) und eine Position x wird mit Hilfe der zentralen Differenzen\n",
    "    eine Naeherung der Ableitung berechnet: f'(x) = (f(x+h) - f(x-h))/(2*h) und zurückgegeben.\n",
    "    \"\"\"\n",
    "    h = 1e-6\n",
    "    fableitung = (f(x+h) - f(x-h))/(2*h)       # Hier 42 durch richtige Gleichung einsetzen\n",
    "    return fableitung\n",
    "\n"
   ]
  },
  {
   "cell_type": "markdown",
   "metadata": {},
   "source": [
    "## Aufgabe 2 - teste deine Lösung\n",
    "\n",
    "Teste deine Lösung, indem Du die Ableitung von $f(x) = 2x -1$ berechnest:"
   ]
  },
  {
   "cell_type": "code",
   "execution_count": 17,
   "metadata": {},
   "outputs": [],
   "source": [
    "def f(x):\n",
    "    return 2*x - 1"
   ]
  },
  {
   "cell_type": "code",
   "execution_count": 18,
   "metadata": {},
   "outputs": [
    {
     "data": {
      "text/plain": [
       "2.000000000002"
      ]
     },
     "execution_count": 18,
     "metadata": {},
     "output_type": "execute_result"
    }
   ],
   "source": [
    "# Ableitung bei x = 0, gesuchter Wert ist etwa 2\n",
    "ableitung(f, 0)"
   ]
  },
  {
   "cell_type": "code",
   "execution_count": 19,
   "metadata": {},
   "outputs": [
    {
     "data": {
      "text/plain": [
       "2.000000000002"
      ]
     },
     "execution_count": 19,
     "metadata": {},
     "output_type": "execute_result"
    }
   ],
   "source": [
    "# Ableitung bei x = 0.1, gesuchter Wert ist etwa 2\n",
    "ableitung(f, 0.1)"
   ]
  },
  {
   "cell_type": "code",
   "execution_count": 20,
   "metadata": {},
   "outputs": [
    {
     "data": {
      "text/plain": [
       "1.9999999998354667"
      ]
     },
     "execution_count": 20,
     "metadata": {},
     "output_type": "execute_result"
    }
   ],
   "source": [
    "# Ableitung bei x = 1.5, gesuchter Wert ist etwa 2\n",
    "ableitung(f, 1.5)"
   ]
  },
  {
   "cell_type": "markdown",
   "metadata": {},
   "source": [
    "## Aufgabe 3 – Spiele mit Linearen Funktionen (1)\n",
    "\n",
    "Berechne die Ableitungen für die folgenden linearen Funktionen für einige Werte von $x$:\n",
    "\n",
    "- $g1(x) = 3x$\n",
    "- $g2(x) = 3x + 10$\n",
    "- $g3(x) = 3x - 20$\n",
    "\n",
    "Was stellst Du fest?"
   ]
  },
  {
   "cell_type": "markdown",
   "metadata": {},
   "source": [
    "### Aufgabe 4 – Spiele mit Linearen Funktionen (2)\n",
    "\n",
    "\n",
    "Berechne die Ableitungen für die folgenden linearen Funktionen für einige Werte von $x$:\n",
    "\n",
    "- $h1(x)= 4x$\n",
    "- $h2(x) = -5x$\n",
    "- $h3(x) = 0.1x$\n",
    "\n",
    "Was stellst Du fest?\n"
   ]
  },
  {
   "cell_type": "markdown",
   "metadata": {},
   "source": [
    "### Aufgabe 4 – Spiele mit Linearen Funktionen (3)\n",
    "\n",
    "\n",
    "Berechne die Ableitungen für die folgenden linearen Funktionen für einige Werte von $x$:\n",
    "\n",
    "- $h1(x)= 100x - 500$\n",
    "- $h2(x) = 2x + 10$\n",
    "- $h3(x) = -3x + 42$\n",
    "\n",
    "Was stellst Du fest?\n"
   ]
  },
  {
   "cell_type": "code",
   "execution_count": null,
   "metadata": {},
   "outputs": [],
   "source": []
  }
 ],
 "metadata": {
  "kernelspec": {
   "display_name": "Python 3",
   "language": "python",
   "name": "python3"
  },
  "language_info": {
   "codemirror_mode": {
    "name": "ipython",
    "version": 3
   },
   "file_extension": ".py",
   "mimetype": "text/x-python",
   "name": "python",
   "nbconvert_exporter": "python",
   "pygments_lexer": "ipython3",
   "version": "3.7.4"
  }
 },
 "nbformat": 4,
 "nbformat_minor": 2
}
