{
 "cells": [
  {
   "cell_type": "markdown",
   "metadata": {},
   "source": [
    "# Funktionen\n"
   ]
  },
  {
   "cell_type": "markdown",
   "metadata": {},
   "source": [
    "Eine **Funktion im mathematischen Sinn** akzeptiert gewisse Variablen als Eingabewerte (input) und gibt dann Ergebnisswerte (output) zurück.\n",
    "\n",
    "Zum Beispiel $f(x) = \\sqrt(x)$ ist eine Funktion, die einen Wert für $x$ akzeptiert, und die Quadratwurzel von $x$ zurück gibt. \n",
    "\n",
    "Eine **Funktion in Python** ist der mathematischen Funktion aehnlich, kann aber auch genutzt werden um Algorihtmen bequem zusammenzufassen. Wir zeigen ein paar Beispiele:\n",
    "\n",
    "## Beispiel 1: Wurzel\n",
    "\n",
    "Wir könnten zum Beispiel die Funktion $f(x)$ wie im Beispiel oben definieren, also $f(x) = \\sqrt{x}$:"
   ]
  },
  {
   "cell_type": "code",
   "execution_count": 6,
   "metadata": {},
   "outputs": [],
   "source": [
    "# Zugriff auf mathematische Funktionen\n",
    "import math\n",
    "\n",
    "def f(x):\n",
    "    \"\"\"Compute and return square root of x\"\"\"\n",
    "    return math.sqrt(x)"
   ]
  },
  {
   "cell_type": "markdown",
   "metadata": {},
   "source": [
    "Dann können wir die Funktion benutzen:"
   ]
  },
  {
   "cell_type": "code",
   "execution_count": 7,
   "metadata": {},
   "outputs": [
    {
     "data": {
      "text/plain": [
       "3.0"
      ]
     },
     "execution_count": 7,
     "metadata": {},
     "output_type": "execute_result"
    }
   ],
   "source": [
    "f(9)"
   ]
  },
  {
   "cell_type": "code",
   "execution_count": 8,
   "metadata": {},
   "outputs": [
    {
     "data": {
      "text/plain": [
       "2.0"
      ]
     },
     "execution_count": 8,
     "metadata": {},
     "output_type": "execute_result"
    }
   ],
   "source": [
    "f(4)"
   ]
  },
  {
   "cell_type": "code",
   "execution_count": 9,
   "metadata": {},
   "outputs": [
    {
     "data": {
      "text/plain": [
       "1.4142135623730951"
      ]
     },
     "execution_count": 9,
     "metadata": {},
     "output_type": "execute_result"
    }
   ],
   "source": [
    "f(2)"
   ]
  },
  {
   "cell_type": "markdown",
   "metadata": {},
   "source": [
    "Unsere Funktion gibt einen Wert zurück. Den können wir entweder als Output (im Jupyter Notebook oder Python prompt) anzeigen lassen, oder einer Variablen zuweisen:"
   ]
  },
  {
   "cell_type": "code",
   "execution_count": 13,
   "metadata": {},
   "outputs": [],
   "source": [
    "s = f(9)"
   ]
  },
  {
   "cell_type": "code",
   "execution_count": 14,
   "metadata": {},
   "outputs": [
    {
     "name": "stdout",
     "output_type": "stream",
     "text": [
      "9.0\n"
     ]
    }
   ],
   "source": [
    "print(s * s)"
   ]
  },
  {
   "cell_type": "markdown",
   "metadata": {},
   "source": [
    "![Rechwinkeliges Dreieck](triangle.png)\n",
    "\n",
    "## Satz von Pythagoras\n",
    "\n",
    "Der Satz von Pythagoras erlaubt uns, Seitenlängen in einem Dreick mit einem rechten Winkel zu berechnen. Mehr details:\n",
    "\n",
    "- Dorfuchs: (https://youtu.be/8IZ_0qhZ36M)\n",
    "- Wikpedia: https://de.wikipedia.org/wiki/Satz_des_Pythagoras\n",
    "- Gut erklaert: https://www.gut-erklaert.de/mathematik/satz-des-pythagoras.html\n",
    "\n",
    "## Aufgabe 1\n",
    "\n",
    "- Schreibe eine Pythonfunktion `pythagoras(a, b)`, die Werte fuer `a` und `b` akzeptiert, und dann $\\sqrt{a^2 + b^2}$  zurueck gibt.\n",
    "  - Test: für $a=3$ und $b=4$, erwarten wir dass `pythagoras(3, 5)` den Wert 5.0 zurueck gibt.\n",
    "  \n",
    "## Aufgabe 2\n",
    "\n",
    "- Für ein rechtwinkliges Dreieck mit Seitenlaengen a=5 und b=12, berechne die Länge c der Hypotenuse. \n",
    "\n",
    "## Aufgabe 3\n",
    "\n",
    "- Schreibe ein Program, das die folgende Tabelle ausgibt:\n",
    "\n",
    "```\n",
    "pythagoras(0, 0) = 0.0\n",
    "pythagoras(0, 1) = 1.0\n",
    "pythagoras(0, 2) = 2.0\n",
    "pythagoras(0, 3) = 3.0\n",
    "pythagoras(0, 4) = 4.0\n",
    "pythagoras(1, 0) = 1.0\n",
    "pythagoras(1, 1) = 1.4142135623730951\n",
    "pythagoras(1, 2) = 2.23606797749979\n",
    "pythagoras(1, 3) = 3.1622776601683795\n",
    "pythagoras(1, 4) = 4.123105625617661\n",
    "pythagoras(2, 0) = 2.0\n",
    "pythagoras(2, 1) = 2.23606797749979\n",
    "pythagoras(2, 2) = 2.8284271247461903\n",
    "pythagoras(2, 3) = 3.605551275463989\n",
    "pythagoras(2, 4) = 4.47213595499958\n",
    "pythagoras(3, 0) = 3.0\n",
    "pythagoras(3, 1) = 3.1622776601683795\n",
    "pythagoras(3, 2) = 3.605551275463989\n",
    "pythagoras(3, 3) = 4.242640687119285\n",
    "pythagoras(3, 4) = 5.0\n",
    "pythagoras(4, 0) = 4.0\n",
    "pythagoras(4, 1) = 4.123105625617661\n",
    "pythagoras(4, 2) = 4.47213595499958\n",
    "pythagoras(4, 3) = 5.0\n",
    "pythagoras(4, 4) = 5.656854249492381\n",
    "```\n"
   ]
  },
  {
   "cell_type": "markdown",
   "metadata": {},
   "source": [
    "## Beispiel 2: \n",
    "\n",
    "Pythonfunktionen müssen nicht unbedingt rechnen. Hier sind zwei anderes Beispiele:\n"
   ]
  },
  {
   "cell_type": "code",
   "execution_count": 42,
   "metadata": {},
   "outputs": [],
   "source": [
    "import time\n",
    "\n",
    "def zeitinfo():\n",
    "    \"\"\"Returns a string explaining how many seconds have passed since 1. Jan 1970.\"\"\"\n",
    "    secs = int(time.time())\n",
    "    result_value = f\"Seit 1.1.1970 sind {secs} Sekunden vergangen.\"\n",
    "    return result_value\n",
    "\n",
    "def hour_min_sec():\n",
    "    \"\"\"Returns a tuple with hours, minutes, seconds of local time\"\"\"\n",
    "    t = time.localtime(time.time())\n",
    "    minutes = t.tm_min\n",
    "    hours = t.tm_hour\n",
    "    seconds = t.tm_sec\n",
    "    return hours, minutes, seconds\n"
   ]
  },
  {
   "cell_type": "code",
   "execution_count": 50,
   "metadata": {},
   "outputs": [
    {
     "data": {
      "text/plain": [
       "'Seit 1.1.1970 sind 1576441989 Sekunden vergangen.'"
      ]
     },
     "execution_count": 50,
     "metadata": {},
     "output_type": "execute_result"
    }
   ],
   "source": [
    "zeitinfo()"
   ]
  },
  {
   "cell_type": "code",
   "execution_count": 51,
   "metadata": {},
   "outputs": [
    {
     "data": {
      "text/plain": [
       "'Seit 1.1.1970 sind 1576441992 Sekunden vergangen.'"
      ]
     },
     "execution_count": 51,
     "metadata": {},
     "output_type": "execute_result"
    }
   ],
   "source": [
    "zeitinfo()"
   ]
  },
  {
   "cell_type": "code",
   "execution_count": 52,
   "metadata": {},
   "outputs": [
    {
     "data": {
      "text/plain": [
       "(21, 33, 18)"
      ]
     },
     "execution_count": 52,
     "metadata": {},
     "output_type": "execute_result"
    }
   ],
   "source": [
    "hour_min_sec()"
   ]
  },
  {
   "cell_type": "code",
   "execution_count": 54,
   "metadata": {},
   "outputs": [
    {
     "name": "stdout",
     "output_type": "stream",
     "text": [
      "Es ist 21:33.\n"
     ]
    }
   ],
   "source": [
    "h, m, s = hour_min_sec()\n",
    "print(f\"Es ist {h}:{m}.\")"
   ]
  },
  {
   "cell_type": "code",
   "execution_count": null,
   "metadata": {},
   "outputs": [],
   "source": []
  },
  {
   "cell_type": "code",
   "execution_count": null,
   "metadata": {},
   "outputs": [],
   "source": []
  }
 ],
 "metadata": {
  "kernelspec": {
   "display_name": "Python 3",
   "language": "python",
   "name": "python3"
  },
  "language_info": {
   "codemirror_mode": {
    "name": "ipython",
    "version": 3
   },
   "file_extension": ".py",
   "mimetype": "text/x-python",
   "name": "python",
   "nbconvert_exporter": "python",
   "pygments_lexer": "ipython3",
   "version": "3.7.4"
  }
 },
 "nbformat": 4,
 "nbformat_minor": 2
}
