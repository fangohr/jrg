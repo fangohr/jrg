{
 "cells": [
  {
   "cell_type": "markdown",
   "metadata": {},
   "source": [
    "# Funktionen\n"
   ]
  },
  {
   "cell_type": "markdown",
   "metadata": {},
   "source": [
    "Eine **Funktion im mathematischen Sinn** akzeptiert gewisse Variablen als Eingabewerte (input) und gibt dann Ergebnisswerte (output) zurück.\n",
    "\n",
    "Zum Beispiel $f(x) = \\sqrt(x)$ ist eine Funktion, die einen Wert für $x$ akzeptiert, und die Quadratwurzel von $x$ zurück gibt. \n",
    "\n",
    "Eine **Funktion in Python** ist der mathematischen Funktion ähnlich, kann aber auch genutzt werden um Algorihtmen bequem zusammenzufassen. Wir zeigen ein paar Beispiele:\n",
    "\n",
    "## Beispiel 1: Wurzel\n",
    "\n",
    "Wir könnten zum Beispiel die Funktion $f(x)$ wie im oben definieren, also $f(x) = \\sqrt{x}$:"
   ]
  },
  {
   "cell_type": "code",
   "execution_count": 7,
   "metadata": {},
   "outputs": [],
   "source": [
    "# Zugriff auf mathematische Funktionen\n",
    "import math\n",
    "\n",
    "# Definition der Pythonfunktion:\n",
    "def f(x):\n",
    "    \"\"\"Compute and return square root of x\"\"\"\n",
    "    return math.sqrt(x)"
   ]
  },
  {
   "cell_type": "markdown",
   "metadata": {},
   "source": [
    "Dann können wir die Funktion benutzen:"
   ]
  },
  {
   "cell_type": "code",
   "execution_count": 8,
   "metadata": {},
   "outputs": [
    {
     "data": {
      "text/plain": [
       "3.0"
      ]
     },
     "execution_count": 8,
     "metadata": {},
     "output_type": "execute_result"
    }
   ],
   "source": [
    "f(9)"
   ]
  },
  {
   "cell_type": "code",
   "execution_count": 9,
   "metadata": {},
   "outputs": [
    {
     "data": {
      "text/plain": [
       "2.0"
      ]
     },
     "execution_count": 9,
     "metadata": {},
     "output_type": "execute_result"
    }
   ],
   "source": [
    "f(4)"
   ]
  },
  {
   "cell_type": "code",
   "execution_count": 10,
   "metadata": {},
   "outputs": [
    {
     "data": {
      "text/plain": [
       "1.4142135623730951"
      ]
     },
     "execution_count": 10,
     "metadata": {},
     "output_type": "execute_result"
    }
   ],
   "source": [
    "f(2)"
   ]
  },
  {
   "cell_type": "markdown",
   "metadata": {},
   "source": [
    "Unsere Funktion gibt einen Wert zurück. Den können wir entweder als Output (im Jupyter Notebook oder Python prompt) anzeigen lassen, oder einer Variablen zuweisen:"
   ]
  },
  {
   "cell_type": "code",
   "execution_count": 12,
   "metadata": {},
   "outputs": [],
   "source": [
    "s = f(9)"
   ]
  },
  {
   "cell_type": "code",
   "execution_count": 13,
   "metadata": {},
   "outputs": [
    {
     "name": "stdout",
     "output_type": "stream",
     "text": [
      "9.0\n"
     ]
    }
   ],
   "source": [
    "print(s * s)"
   ]
  },
  {
   "cell_type": "markdown",
   "metadata": {},
   "source": [
    "## Anwendung von Funktionen im Satz von Pythagoras\n",
    "\n",
    "![Rechwinkeliges Dreieck](triangle.png)\n",
    "\n",
    "Der Satz von Pythagoras erlaubt uns, Seitenlängen in einem Dreick mit einem rechten Winkel zu berechnen. Mehr details:\n",
    "\n",
    "- Youtube-Dorfuchs: https://youtu.be/8IZ_0qhZ36M\n",
    "- Wikpedia: https://de.wikipedia.org/wiki/Satz_des_Pythagoras\n",
    "- Gut erklaert: https://www.gut-erklaert.de/mathematik/satz-des-pythagoras.html"
   ]
  },
  {
   "cell_type": "markdown",
   "metadata": {},
   "source": [
    "## Aufgabe 1\n",
    "\n",
    "- Schreibe eine Pythonfunktion `pythagoras(a, b)`, die Werte für `a` und `b` akzeptiert, und dann $\\sqrt{a^2 + b^2}$  zurück gibt.\n",
    "  - Test: für $a=3$ und $b=4$, erwarten wir dass `pythagoras(3, 4)` den Wert 5.0 zurück gibt.\n",
    "  "
   ]
  },
  {
   "cell_type": "code",
   "execution_count": null,
   "metadata": {},
   "outputs": [],
   "source": []
  },
  {
   "cell_type": "markdown",
   "metadata": {},
   "source": [
    "## Aufgabe 2\n",
    "\n",
    "- Für ein rechtwinkliges Dreieck mit Seitenlaengen a=5 und b=12, berechne die Länge c der Hypotenuse. "
   ]
  },
  {
   "cell_type": "code",
   "execution_count": null,
   "metadata": {},
   "outputs": [],
   "source": []
  },
  {
   "cell_type": "markdown",
   "metadata": {},
   "source": [
    "## Aufgabe 3\n",
    "\n",
    "- Schreibe ein Program, das die folgende Tabelle ausgibt:\n",
    "\n",
    "```\n",
    "pythagoras(0, 0) = 0.0\n",
    "pythagoras(0, 1) = 1.0\n",
    "pythagoras(0, 2) = 2.0\n",
    "pythagoras(0, 3) = 3.0\n",
    "pythagoras(0, 4) = 4.0\n",
    "pythagoras(1, 0) = 1.0\n",
    "pythagoras(1, 1) = 1.4142135623730951\n",
    "pythagoras(1, 2) = 2.23606797749979\n",
    "pythagoras(1, 3) = 3.1622776601683795\n",
    "pythagoras(1, 4) = 4.123105625617661\n",
    "pythagoras(2, 0) = 2.0\n",
    "pythagoras(2, 1) = 2.23606797749979\n",
    "pythagoras(2, 2) = 2.8284271247461903\n",
    "pythagoras(2, 3) = 3.605551275463989\n",
    "pythagoras(2, 4) = 4.47213595499958\n",
    "pythagoras(3, 0) = 3.0\n",
    "pythagoras(3, 1) = 3.1622776601683795\n",
    "pythagoras(3, 2) = 3.605551275463989\n",
    "pythagoras(3, 3) = 4.242640687119285\n",
    "pythagoras(3, 4) = 5.0\n",
    "pythagoras(4, 0) = 4.0\n",
    "pythagoras(4, 1) = 4.123105625617661\n",
    "pythagoras(4, 2) = 4.47213595499958\n",
    "pythagoras(4, 3) = 5.0\n",
    "pythagoras(4, 4) = 5.656854249492381\n",
    "```"
   ]
  },
  {
   "cell_type": "code",
   "execution_count": null,
   "metadata": {},
   "outputs": [],
   "source": []
  },
  {
   "cell_type": "markdown",
   "metadata": {},
   "source": [
    "## Beispiel 2: \n",
    "\n",
    "Pythonfunktionen müssen nicht unbedingt rechnen. Hier sind zwei anderes Beispiele:\n"
   ]
  },
  {
   "cell_type": "code",
   "execution_count": 14,
   "metadata": {},
   "outputs": [],
   "source": [
    "import time\n",
    "\n",
    "def zeitinfo():\n",
    "    \"\"\"Returns a string explaining how many seconds have passed since 1. Jan 1970.\"\"\"\n",
    "    secs = int(time.time())\n",
    "    result_value = f\"Seit 1.1.1970 sind {secs} Sekunden vergangen.\"\n",
    "    return result_value"
   ]
  },
  {
   "cell_type": "code",
   "execution_count": 15,
   "metadata": {},
   "outputs": [
    {
     "name": "stdout",
     "output_type": "stream",
     "text": [
      "Seit 1.1.1970 sind 1577041184 Sekunden vergangen.\n"
     ]
    }
   ],
   "source": [
    "print(zeitinfo())"
   ]
  },
  {
   "cell_type": "code",
   "execution_count": 16,
   "metadata": {},
   "outputs": [
    {
     "name": "stdout",
     "output_type": "stream",
     "text": [
      "Seit 1.1.1970 sind 1577041184 Sekunden vergangen.\n"
     ]
    }
   ],
   "source": [
    "print(zeitinfo())"
   ]
  },
  {
   "cell_type": "code",
   "execution_count": 17,
   "metadata": {},
   "outputs": [
    {
     "data": {
      "text/plain": [
       "'Seit 1.1.1970 sind 1577041185 Sekunden vergangen.'"
      ]
     },
     "execution_count": 17,
     "metadata": {},
     "output_type": "execute_result"
    }
   ],
   "source": [
    "zeitinfo()"
   ]
  },
  {
   "cell_type": "code",
   "execution_count": 18,
   "metadata": {},
   "outputs": [],
   "source": [
    "def hour_min_sec():\n",
    "    \"\"\"Returns a tuple with hours, minutes, seconds of local time\"\"\"\n",
    "    t = time.localtime(time.time())\n",
    "    minutes = t.tm_min\n",
    "    hours = t.tm_hour\n",
    "    seconds = t.tm_sec\n",
    "    return hours, minutes, seconds"
   ]
  },
  {
   "cell_type": "code",
   "execution_count": 19,
   "metadata": {},
   "outputs": [
    {
     "data": {
      "text/plain": [
       "(19, 59, 46)"
      ]
     },
     "execution_count": 19,
     "metadata": {},
     "output_type": "execute_result"
    }
   ],
   "source": [
    "hour_min_sec()"
   ]
  },
  {
   "cell_type": "code",
   "execution_count": 20,
   "metadata": {},
   "outputs": [
    {
     "name": "stdout",
     "output_type": "stream",
     "text": [
      "Es ist 19:59.\n"
     ]
    }
   ],
   "source": [
    "h, m, s = hour_min_sec()\n",
    "print(f\"Es ist {h}:{m}.\")"
   ]
  },
  {
   "cell_type": "markdown",
   "metadata": {},
   "source": [
    "## Aufgabe 4\n",
    "\n",
    "Schreibe ein Programm, das 10 Zeilen druckt, und eine Zeile alle 2 Sekunden erscheinen laesst. ZB:\n",
    "\n",
    "```\n",
    "Seit 1.1.1970 sind 1576442526 Sekunden vergangen.\n",
    "Seit 1.1.1970 sind 1576442528 Sekunden vergangen.\n",
    "Seit 1.1.1970 sind 1576442530 Sekunden vergangen.\n",
    "Seit 1.1.1970 sind 1576442532 Sekunden vergangen.\n",
    "Seit 1.1.1970 sind 1576442534 Sekunden vergangen.\n",
    "Seit 1.1.1970 sind 1576442536 Sekunden vergangen.\n",
    "Seit 1.1.1970 sind 1576442538 Sekunden vergangen.\n",
    "Seit 1.1.1970 sind 1576442540 Sekunden vergangen.\n",
    "Seit 1.1.1970 sind 1576442542 Sekunden vergangen.\n",
    "Seit 1.1.1970 sind 1576442544 Sekunden vergangen.\n",
    "```\n",
    "\n",
    "Hinweis: die Funktion `time.sleep()` könnte hilfreich sein."
   ]
  },
  {
   "cell_type": "code",
   "execution_count": null,
   "metadata": {},
   "outputs": [],
   "source": []
  },
  {
   "cell_type": "markdown",
   "metadata": {},
   "source": [
    "## Das Dokumentieren von Funktionen und `help` "
   ]
  },
  {
   "cell_type": "markdown",
   "metadata": {},
   "source": [
    "Die Hilfefunktion (`help`) kann benutzt werden, um mehr über Funktionen zu lernen. Z.B:"
   ]
  },
  {
   "cell_type": "code",
   "execution_count": 21,
   "metadata": {},
   "outputs": [
    {
     "name": "stdout",
     "output_type": "stream",
     "text": [
      "Help on built-in function sqrt in module math:\n",
      "\n",
      "sqrt(x, /)\n",
      "    Return the square root of x.\n",
      "\n"
     ]
    }
   ],
   "source": [
    "help(math.sqrt)"
   ]
  },
  {
   "cell_type": "code",
   "execution_count": 22,
   "metadata": {},
   "outputs": [
    {
     "name": "stdout",
     "output_type": "stream",
     "text": [
      "Help on function zeitinfo in module __main__:\n",
      "\n",
      "zeitinfo()\n",
      "    Returns a string explaining how many seconds have passed since 1. Jan 1970.\n",
      "\n"
     ]
    }
   ],
   "source": [
    "help(zeitinfo)"
   ]
  },
  {
   "cell_type": "markdown",
   "metadata": {},
   "source": [
    "## Aufgabe 5\n",
    "\n",
    "Finde heraus, was die `stars()` Funktion (unten) macht. Dann schreibe einen Dokumentationstring, so dass die Erklärung erscheint, wann man `help(stars)` benutzt."
   ]
  },
  {
   "cell_type": "code",
   "execution_count": 23,
   "metadata": {},
   "outputs": [],
   "source": [
    "def stars(n):\n",
    "    return n * \"*\""
   ]
  },
  {
   "cell_type": "code",
   "execution_count": null,
   "metadata": {},
   "outputs": [],
   "source": []
  }
 ],
 "metadata": {
  "kernelspec": {
   "display_name": "Python 3",
   "language": "python",
   "name": "python3"
  },
  "language_info": {
   "codemirror_mode": {
    "name": "ipython",
    "version": 3
   },
   "file_extension": ".py",
   "mimetype": "text/x-python",
   "name": "python",
   "nbconvert_exporter": "python",
   "pygments_lexer": "ipython3",
   "version": "3.7.3"
  }
 },
 "nbformat": 4,
 "nbformat_minor": 2
}
