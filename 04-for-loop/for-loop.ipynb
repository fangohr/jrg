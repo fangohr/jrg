{
 "cells": [
  {
   "cell_type": "markdown",
   "metadata": {},
   "source": [
    "# for-loop - Schleifen in Python"
   ]
  },
  {
   "cell_type": "markdown",
   "metadata": {},
   "source": [
    "Computer sind nicht schlau. \n",
    "\n",
    "Aber schnell.\n",
    "\n",
    "Mit Hilfe von Schleifen, können wir dem Computer wiederholt die gleiche Anweisung geben - typischeweise mit einer kleinen Veränderung von einem Durchlauf der Schleife zum nächsten.\n",
    "\n",
    "Hier lernen wie die ``for``-Schleife (engl: ``for-loop``) kennen. (Die andere Schleifenart in Python heißt ``while``-Schleife.)"
   ]
  },
  {
   "cell_type": "markdown",
   "metadata": {},
   "source": [
    "## Beispiel 1\n",
    "\n",
    "Fuehre das folgende Programm aus, und probiere zu verstehen, was passiert."
   ]
  },
  {
   "cell_type": "code",
   "execution_count": 21,
   "metadata": {},
   "outputs": [
    {
     "name": "stdout",
     "output_type": "stream",
     "text": [
      "Erste Zeile\n",
      "i = 0\n",
      "2 * 0 = 0\n",
      "----\n",
      "i = 2\n",
      "2 * 2 = 4\n",
      "----\n",
      "i = 5\n",
      "2 * 5 = 10\n",
      "----\n",
      "i = 11\n",
      "2 * 11 = 22\n",
      "----\n",
      "Letzte Zeile\n"
     ]
    }
   ],
   "source": [
    "print(\"Erste Zeile\")\n",
    "for i in [0, 2, 5, 11]:\n",
    "    print(f\"i = {i}\")\n",
    "    doppelt = 2 * i\n",
    "    print(f\"2 * {i} = {doppelt}\")\n",
    "    print(f\"----\")\n",
    "print(\"Letzte Zeile\")\n"
   ]
  },
  {
   "cell_type": "markdown",
   "metadata": {},
   "source": [
    "## Aufgabe 1"
   ]
  },
  {
   "cell_type": "markdown",
   "metadata": {},
   "source": [
    "Schreibe ein Programm (mit Hilfe der for-schleife), das die folgende Tabelle des 1x3 druckt:\n",
    "\n",
    "```\n",
    "1 * 3 = 3\n",
    "2 * 3 = 6\n",
    "3 * 3 = 9\n",
    "4 * 3 = 12\n",
    "5 * 3 = 15\n",
    "6 * 3 = 18\n",
    "7 * 3 = 21\n",
    "8 * 3 = 24\n",
    "9 * 3 = 27```"
   ]
  },
  {
   "cell_type": "markdown",
   "metadata": {},
   "source": [
    "## Beispiel 2 (list)\n",
    "\n",
    "Das Objekt ``[0, 2, 5, 11]`` ist ein `Listen` Objekt (engl: *list*) Objekt. Hier sind ein paar Beispiele, die zeigen, was wir damit tun können:\n"
   ]
  },
  {
   "cell_type": "code",
   "execution_count": 2,
   "metadata": {},
   "outputs": [],
   "source": [
    "# Eine for-Schleife wie im Beispiel 1\n",
    "for i in [0, 1, 2]:\n",
    "    print(i)"
   ]
  },
  {
   "cell_type": "code",
   "execution_count": 3,
   "metadata": {},
   "outputs": [],
   "source": [
    "# Die gleiche for-Schleife über eine Liste\n",
    "a = [0, 1, 2]\n",
    "for i in a:\n",
    "    print(i)"
   ]
  },
  {
   "cell_type": "markdown",
   "metadata": {},
   "source": [
    "`a` ist ein interessantes Objekt:"
   ]
  },
  {
   "cell_type": "code",
   "execution_count": 4,
   "metadata": {},
   "outputs": [],
   "source": [
    "type(a)"
   ]
  },
  {
   "cell_type": "code",
   "execution_count": 5,
   "metadata": {},
   "outputs": [],
   "source": [
    "print(a)"
   ]
  },
  {
   "cell_type": "code",
   "execution_count": 6,
   "metadata": {},
   "outputs": [],
   "source": [
    "a.append(100)"
   ]
  },
  {
   "cell_type": "code",
   "execution_count": 7,
   "metadata": {},
   "outputs": [
    {
     "name": "stdout",
     "output_type": "stream",
     "text": [
      "[0, 1, 2, 100]\n"
     ]
    }
   ],
   "source": [
    "print(a)"
   ]
  },
  {
   "cell_type": "code",
   "execution_count": 8,
   "metadata": {},
   "outputs": [
    {
     "name": "stdout",
     "output_type": "stream",
     "text": [
      "0\n",
      "1\n",
      "2\n",
      "100\n"
     ]
    }
   ],
   "source": [
    "for i in a:\n",
    "    print(i)"
   ]
  },
  {
   "cell_type": "code",
   "execution_count": 9,
   "metadata": {},
   "outputs": [
    {
     "name": "stdout",
     "output_type": "stream",
     "text": [
      "dog\n",
      "cat\n",
      "maus\n"
     ]
    }
   ],
   "source": [
    "a = [\"dog\", \"cat\", \"maus\"]\n",
    "for i in a:\n",
    "    print(i)"
   ]
  },
  {
   "cell_type": "markdown",
   "metadata": {},
   "source": [
    "Für dieses Beispiel sollten wir Variablennamen (statt ``a`` und ``i``) verwenden, die ihre Rolle erklären:"
   ]
  },
  {
   "cell_type": "code",
   "execution_count": 10,
   "metadata": {},
   "outputs": [
    {
     "name": "stdout",
     "output_type": "stream",
     "text": [
      "dog\n",
      "cat\n",
      "mouse\n"
     ]
    }
   ],
   "source": [
    "animals = [\"dog\", \"cat\", \"mouse\"]\n",
    "for animal in animals:\n",
    "    print(animal)"
   ]
  },
  {
   "cell_type": "markdown",
   "metadata": {},
   "source": [
    "## Aufgabe 2\n",
    "\n",
    "Schreibe ein Programm, das eine for-Schleife verwendet und die folgende verkuerzte 1x3 Tabelle erstellt:\n",
    "\n",
    "```\n",
    "0 * 3 = 0\n",
    "3 * 3 = 9\n",
    "7 * 3 = 21\n",
    "9 * 3 = 27\n",
    "12 * 3 = 36\n",
    "17 * 3 = 51\n",
    "431 * 3 = 1293```"
   ]
  },
  {
   "cell_type": "markdown",
   "metadata": {},
   "source": [
    "## Beispiel 3 (range)\n",
    "\n",
    "Häufig brauchen wir eine Liste mit Zahlen von 0 bis 9, oder 1 bis 10, oder 1 bis 20 mit Abstand 2. Der Bereichsbefehl (engl: ``range`` command) kann uns helfen:"
   ]
  },
  {
   "cell_type": "code",
   "execution_count": 16,
   "metadata": {},
   "outputs": [
    {
     "data": {
      "text/plain": [
       "[0, 1, 2, 3, 4, 5, 6, 7, 8, 9]"
      ]
     },
     "execution_count": 16,
     "metadata": {},
     "output_type": "execute_result"
    }
   ],
   "source": [
    "# von 0 bis fast 10, mit Abstand 1\n",
    "list(range(0, 10))"
   ]
  },
  {
   "cell_type": "code",
   "execution_count": 17,
   "metadata": {},
   "outputs": [
    {
     "data": {
      "text/plain": [
       "[0, 2, 4, 6, 8]"
      ]
     },
     "execution_count": 17,
     "metadata": {},
     "output_type": "execute_result"
    }
   ],
   "source": [
    "# von 0 bis fast 10, mit Abstand 2\n",
    "list(range(0, 10, 2))"
   ]
  },
  {
   "cell_type": "markdown",
   "metadata": {},
   "source": [
    "`range` ist für for-Schleifen haufig nützlich:"
   ]
  },
  {
   "cell_type": "code",
   "execution_count": 19,
   "metadata": {},
   "outputs": [
    {
     "name": "stdout",
     "output_type": "stream",
     "text": [
      "0\n",
      "1\n",
      "2\n",
      "3\n",
      "4\n"
     ]
    }
   ],
   "source": [
    "for i in range(0, 5):\n",
    "    print(i)"
   ]
  },
  {
   "cell_type": "markdown",
   "metadata": {},
   "source": [
    "## Aufgabe 3 (range)\n",
    "\n",
    "Erzeuge die folgenden Listen mit dem `range` und `list` Kommandos:\n",
    "\n",
    "1: ``[10, 11, 12, 13, 14, 15]``\n",
    "\n",
    "2: ``[-5, -3, -1, 1, 2, 3, 5]``\n",
    "\n",
    "3: ``[10, 9, 8, 7, 6, 5, 4, 3, 2, 1]``\n"
   ]
  },
  {
   "cell_type": "markdown",
   "metadata": {},
   "source": [
    "## Aufgabe 4\n",
    "\n",
    "Schreibe das Program für das 1x3 nochmal:\n",
    "```\n",
    "1 * 3 = 3\n",
    "2 * 3 = 6\n",
    "3 * 3 = 9\n",
    "4 * 3 = 12\n",
    "5 * 3 = 15\n",
    "6 * 3 = 18\n",
    "7 * 3 = 21\n",
    "8 * 3 = 24\n",
    "9 * 3 = 27```\n",
    "\n",
    "und benutze den `range` Befehl."
   ]
  }
 ],
 "metadata": {
  "kernelspec": {
   "display_name": "Python 3",
   "language": "python",
   "name": "python3"
  },
  "language_info": {
   "codemirror_mode": {
    "name": "ipython",
    "version": 3
   },
   "file_extension": ".py",
   "mimetype": "text/x-python",
   "name": "python",
   "nbconvert_exporter": "python",
   "pygments_lexer": "ipython3",
   "version": "3.7.3"
  }
 },
 "nbformat": 4,
 "nbformat_minor": 2
}
