{
 "cells": [
  {
   "cell_type": "markdown",
   "metadata": {},
   "source": [
    "# Quadratische Funktionen\n",
    "\n",
    "Dorfuchsvideo zum Thema Quadratische Funktionen: https://youtu.be/jsbVtNa5-hg"
   ]
  },
  {
   "cell_type": "markdown",
   "metadata": {},
   "source": [
    "## Normal parabel\n",
    "\n",
    "Die Normalparabel ist die Funktion $f(y) = x^2$. \n",
    "\n",
    "### Aufgabe 1\n",
    "\n",
    "- Zeichne die Normalparabel.\n",
    "- Wo (also bei welchem Wert von $x$) ist die Nullstelle?\n",
    "- Was sind die Werte von \n",
    "  - $f(1)$ und\n",
    "  - $f(-1)$ ?\n",
    "  - Warum sind die Werte gleich?\n",
    "Was sind die Werte von \n",
    "  - f(2) und f(-2)?\n"
   ]
  },
  {
   "cell_type": "code",
   "execution_count": null,
   "metadata": {},
   "outputs": [],
   "source": []
  }
 ],
 "metadata": {
  "kernelspec": {
   "display_name": "Python 3",
   "language": "python",
   "name": "python3"
  },
  "language_info": {
   "codemirror_mode": {
    "name": "ipython",
    "version": 3
   },
   "file_extension": ".py",
   "mimetype": "text/x-python",
   "name": "python",
   "nbconvert_exporter": "python",
   "pygments_lexer": "ipython3",
   "version": "3.7.4"
  }
 },
 "nbformat": 4,
 "nbformat_minor": 2
}
