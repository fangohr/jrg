{
 "cells": [
  {
   "cell_type": "markdown",
   "metadata": {},
   "source": [
    "# 1. Kerze\n",
    "\n",
    "Eine neue Kerze ist 20 cm lang. Beim Brennen wird sie jede Stunde um 0.9cm kürzer.\n",
    "\n",
    "- Stelle eine Funktion $L(t)$ auf, die die Länge der Kerze $L$ als Funktion der Brenndauer $t$ beschreibt. Die Brenndauer wird in Stunden gemessen, und die Länge in cm. \n",
    "\n",
    "- Implementiere diese Funktion $L(t)$ in Python als Funktion `L(t)`.\n",
    "\n",
    "- Zeichne die Funktion $L(t)$\n",
    "\n",
    "- Nach welcher Zeit ist die Kerze abgebrannt?\n",
    "  - Wie hast Du das heraus gefunden?\n",
    "  - Gibt es noch andere Moeglichkeiten?"
   ]
  },
  {
   "cell_type": "markdown",
   "metadata": {},
   "source": [
    "# 2. Tee\n",
    "\n",
    "Die Temperature $T$ in einer Tasse Tee ändert sich also Funktion der Zeit $t$: Annehmend, dass zum Zeitpunkt $t=0$ kochendes Wasser (mit einer Temperatur von 100$\\,^\\circ$C) in die Tasse gegossen wurde, kühlt sich der Tee bis auf Zimmertemperatur $Z$ ab. Die Teetemperatur $T(t)$ folgt folgender Formel:\n",
    "$$T(t) = Z + (100-Z)\\exp\\left(\\frac{-t}{300}\\right)$$\n",
    "wobei die Teetemperatur $T$ und die Zimmertemperature $Z$ in Grad Celsius gemessen werden, und die Zeit $t$ in Sekunden gemessen wird.\n",
    "\n",
    "* Schreibe eine Funktion `T(t)`, die die Teetemperatur zur Zeit $t$ zurück gibt. Nimm für die Zimmertemperatur $Z = 20^\\circ$C an.\n",
    "* Teste die Funktion für verschiedene Werte von $t$. \n",
    "  * Welche Tempertur erwartest Du für $t=0$?\n",
    "  * Welche Tempertur erwartest Du nach einem Tag? ($t = 24 * 60 * 60 $s)?\n",
    "  \n",
    "* Zeichne die Funktion für Werte von $t$ im Bereich von 0 Sekunden bis 30 Minuten\n",
    "* Menschen nehmen Temperaturen im Bereich von 50 bis 60$^\\circ$C als sehr heiß war (so, dass es sich nach verbrennen anfühlt). Nach welcher Zeit ist der Tee auf 50$^\\circ$ abgefallen? (Dann etwa kann man anfangen, ihn zu trinken.)\n",
    "\n",
    "Hinweis: die Exponentialfunktion $\\exp(x)$ ist in Python in `math.exp` verfügbar (oder wenn `x` ein `array` ist in  `numpy.exp(x)`)."
   ]
  },
  {
   "cell_type": "code",
   "execution_count": null,
   "metadata": {},
   "outputs": [],
   "source": []
  }
 ],
 "metadata": {
  "kernelspec": {
   "display_name": "Python 3",
   "language": "python",
   "name": "python3"
  },
  "language_info": {
   "codemirror_mode": {
    "name": "ipython",
    "version": 3
   },
   "file_extension": ".py",
   "mimetype": "text/x-python",
   "name": "python",
   "nbconvert_exporter": "python",
   "pygments_lexer": "ipython3",
   "version": "3.7.4"
  }
 },
 "nbformat": 4,
 "nbformat_minor": 2
}
