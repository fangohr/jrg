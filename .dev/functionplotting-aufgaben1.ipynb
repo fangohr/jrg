{
 "cells": [
  {
   "cell_type": "markdown",
   "metadata": {},
   "source": [
    "# 1. Kerze\n",
    "\n",
    "Eine neue Kerze ist 20 cm lang. Beim Brennen wird sie jede Stunde um 0.9cm kürzer.\n",
    "\n",
    "- Stelle eine Funktion $L(t)$ auf, die die Länge der Kerze $L$ als Funktion der Brenndauer $t$ beschreibt. Die Brenndauer wird in Stunden gemessen, und die Länge in cm. \n",
    "\n",
    "- Implementiere diese Funktion $L(t)$ in Python als Funktion `L(t)`.\n",
    "\n",
    "- Zeichne die Funktion $L(t)$\n",
    "\n",
    "- Nach welcher Zeit ist die Kerze abgebrannt?\n",
    "  - Wie hast Du das heraus gefunden?\n",
    "  - Gibt es noch andere Moeglichkeiten?"
   ]
  },
  {
   "cell_type": "code",
   "execution_count": null,
   "metadata": {},
   "outputs": [],
   "source": []
  }
 ],
 "metadata": {
  "kernelspec": {
   "display_name": "Python 3",
   "language": "python",
   "name": "python3"
  },
  "language_info": {
   "codemirror_mode": {
    "name": "ipython",
    "version": 3
   },
   "file_extension": ".py",
   "mimetype": "text/x-python",
   "name": "python",
   "nbconvert_exporter": "python",
   "pygments_lexer": "ipython3",
   "version": "3.7.5"
  }
 },
 "nbformat": 4,
 "nbformat_minor": 2
}
