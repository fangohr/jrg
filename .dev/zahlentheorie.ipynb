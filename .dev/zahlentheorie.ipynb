{
 "cells": [
  {
   "cell_type": "markdown",
   "metadata": {},
   "source": [
    "# Zahlentheorie 1\n",
    "\n",
    "Wir untersuchen die Gleichung $g^2 - h^2 = 1005$, für natuerliche Zahlen $h$ und $g$, mit der Beschränkung $g \\le 3000$ und $h \\le 3000$.\n",
    "\n"
   ]
  },
  {
   "cell_type": "code",
   "execution_count": 4,
   "metadata": {},
   "outputs": [
    {
     "ename": "SyntaxError",
     "evalue": "invalid syntax (<ipython-input-4-edeef62880e3>, line 8)",
     "output_type": "error",
     "traceback": [
      "\u001b[0;36m  File \u001b[0;32m\"<ipython-input-4-edeef62880e3>\"\u001b[0;36m, line \u001b[0;32m8\u001b[0m\n\u001b[0;31m    print(f\"Gefunden: h={h}, g={g}\")\u001b[0m\n\u001b[0m                                  ^\u001b[0m\n\u001b[0;31mSyntaxError\u001b[0m\u001b[0;31m:\u001b[0m invalid syntax\n"
     ]
    }
   ],
   "source": [
    "def find_solutions(hmax, gmax):\n",
    "    \"\"\"brute force solution\"\"\"\n",
    "    solutions = []\n",
    "    for h in range(0, hmax + 1):\n",
    "        for g in range(0, gmax + 1):\n",
    "            if g**2 - h**2 == 1005:\n",
    "                # Eine Lösung ist gefunden!\n",
    "                print(f\"Gefunden: h={h}, g={g}\")\n",
    "                solutions.append([h, g])\n",
    "    return solutions\n",
    "                \n",
    "    "
   ]
  },
  {
   "cell_type": "code",
   "execution_count": 30,
   "metadata": {},
   "outputs": [
    {
     "name": "stdout",
     "output_type": "stream",
     "text": [
      "Gefunden: h={h}, g={g}\n",
      "Gefunden: h={h}, g={g}\n",
      "Gefunden: h={h}, g={g}\n",
      "Gefunden: h={h}, g={g}\n",
      "CPU times: user 8.26 s, sys: 159 ms, total: 8.42 s\n",
      "Wall time: 8.62 s\n"
     ]
    },
    {
     "data": {
      "text/plain": [
       "[[26, 41], [98, 103], [166, 169], [502, 503]]"
      ]
     },
     "execution_count": 30,
     "metadata": {},
     "output_type": "execute_result"
    }
   ],
   "source": [
    "%time find_solutions(3000, 3000)"
   ]
  },
  {
   "cell_type": "markdown",
   "metadata": {},
   "source": [
    "## Confirm solution using algebraic methods\n",
    "\n",
    "See https://docs.sympy.org/latest/modules/solvers/diophantine.html"
   ]
  },
  {
   "cell_type": "code",
   "execution_count": 14,
   "metadata": {},
   "outputs": [],
   "source": [
    "import sympy\n",
    "\n",
    "h, g = sympy.symbols('h, g',integer=True, positive=True)\n",
    "\n",
    "from sympy.solvers.diophantine import diophantine"
   ]
  },
  {
   "cell_type": "code",
   "execution_count": 24,
   "metadata": {},
   "outputs": [
    {
     "data": {
      "text/plain": [
       "{(26, 41), (98, 103), (166, 169), (502, 503)}"
      ]
     },
     "execution_count": 24,
     "metadata": {},
     "output_type": "execute_result"
    }
   ],
   "source": [
    "diophantine(h**2-g**2-1005)"
   ]
  },
  {
   "cell_type": "code",
   "execution_count": 2,
   "metadata": {
    "collapsed": true
   },
   "outputs": [],
   "source": [
    "import sys\n"
   ]
  },
  {
   "cell_type": "code",
   "execution_count": 3,
   "metadata": {},
   "outputs": [
    {
     "data": {
      "text/plain": [
       "'3.5.1 |Continuum Analytics, Inc.| (default, Dec  7 2015, 11:24:55) \\n[GCC 4.2.1 (Apple Inc. build 5577)]'"
      ]
     },
     "execution_count": 3,
     "metadata": {},
     "output_type": "execute_result"
    }
   ],
   "source": [
    "sys.version"
   ]
  },
  {
   "cell_type": "code",
   "execution_count": null,
   "metadata": {
    "collapsed": true
   },
   "outputs": [],
   "source": []
  }
 ],
 "metadata": {
  "kernelspec": {
   "display_name": "Python 3",
   "language": "python",
   "name": "python3"
  },
  "language_info": {
   "codemirror_mode": {
    "name": "ipython",
    "version": 3
   },
   "file_extension": ".py",
   "mimetype": "text/x-python",
   "name": "python",
   "nbconvert_exporter": "python",
   "pygments_lexer": "ipython3",
   "version": "3.7.4"
  }
 },
 "nbformat": 4,
 "nbformat_minor": 2
}
