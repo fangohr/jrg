{
 "cells": [
  {
   "cell_type": "markdown",
   "metadata": {},
   "source": [
    "# Zahlentheorie 1\n",
    "\n",
    "Wir untersuchen die Gleichung $g^2 - h^2 = 1005$, für natuerliche Zahlen $h$ und $g$, mit der Beschränkung $g \\le 3000$ und $h \\le 3000$.\n",
    "\n"
   ]
  },
  {
   "cell_type": "code",
   "execution_count": 12,
   "metadata": {
    "collapsed": true
   },
   "outputs": [],
   "source": [
    "def find_solutions(hmax, gmax):\n",
    "    \"\"\"brute force solution\"\"\"\n",
    "    solutions = []\n",
    "    for h in range(0, hmax + 1):\n",
    "        for g in range(0, gmax + 1):\n",
    "            if g**2 - h**2 == 1005:\n",
    "                # Lösung gefunden!\n",
    "                solutions.append([h, g])\n",
    "    return solutions\n",
    "                \n",
    "    "
   ]
  },
  {
   "cell_type": "code",
   "execution_count": 13,
   "metadata": {
    "collapsed": false
   },
   "outputs": [
    {
     "name": "stdout",
     "output_type": "stream",
     "text": [
      "CPU times: user 8.52 s, sys: 158 ms, total: 8.68 s\n",
      "Wall time: 9.44 s\n"
     ]
    },
    {
     "data": {
      "text/plain": [
       "[[26, 41], [98, 103], [166, 169], [502, 503]]"
      ]
     },
     "execution_count": 13,
     "metadata": {},
     "output_type": "execute_result"
    }
   ],
   "source": [
    "%time find_solutions(3000, 3000)"
   ]
  },
  {
   "cell_type": "markdown",
   "metadata": {},
   "source": [
    "## Confirm solution using algebraic methods\n",
    "\n",
    "See https://docs.sympy.org/latest/modules/solvers/diophantine.html"
   ]
  },
  {
   "cell_type": "code",
   "execution_count": 14,
   "metadata": {
    "collapsed": false
   },
   "outputs": [],
   "source": [
    "import sympy\n",
    "\n",
    "h, g = sympy.symbols('h, g',integer=True, positive=True)\n",
    "\n",
    "from sympy.solvers.diophantine import diophantine"
   ]
  },
  {
   "cell_type": "code",
   "execution_count": 24,
   "metadata": {
    "collapsed": false
   },
   "outputs": [
    {
     "data": {
      "text/plain": [
       "{(26, 41), (98, 103), (166, 169), (502, 503)}"
      ]
     },
     "execution_count": 24,
     "metadata": {},
     "output_type": "execute_result"
    }
   ],
   "source": [
    "diophantine(h**2-g**2-1005)"
   ]
  },
  {
   "cell_type": "code",
   "execution_count": null,
   "metadata": {
    "collapsed": true
   },
   "outputs": [],
   "source": []
  }
 ],
 "metadata": {
  "kernelspec": {
   "display_name": "Python [default]",
   "language": "python",
   "name": "python3"
  },
  "language_info": {
   "codemirror_mode": {
    "name": "ipython",
    "version": 3
   },
   "file_extension": ".py",
   "mimetype": "text/x-python",
   "name": "python",
   "nbconvert_exporter": "python",
   "pygments_lexer": "ipython3",
   "version": "3.4.5"
  }
 },
 "nbformat": 4,
 "nbformat_minor": 2
}
