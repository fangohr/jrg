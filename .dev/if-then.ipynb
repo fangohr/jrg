{
 "cells": [
  {
   "cell_type": "markdown",
   "metadata": {},
   "source": [
    "# Entscheidungen und Verzweigungen\n",
    "\n",
    "Oft müssen bestimmte Anweisungen *falls* irgendeine Bedingung erfüllt ist. In Python läßt sich das mit dem `if`-Befehl erreichen.\n",
    "\n"
   ]
  },
  {
   "cell_type": "markdown",
   "metadata": {},
   "source": [
    "## Beispiel 1: Gerade oder ungerade Zahl"
   ]
  },
  {
   "cell_type": "markdown",
   "metadata": {},
   "source": [
    "Vorbereitung: Wir können in Python mit dem *modulo* operator `%` den Rest einer Ganzzahldivision erhalten. Hier sind ein paar Beispiele:\n"
   ]
  },
  {
   "cell_type": "code",
   "execution_count": 3,
   "metadata": {},
   "outputs": [
    {
     "data": {
      "text/plain": [
       "1"
      ]
     },
     "execution_count": 3,
     "metadata": {},
     "output_type": "execute_result"
    }
   ],
   "source": [
    "10 % 3"
   ]
  },
  {
   "cell_type": "code",
   "execution_count": 4,
   "metadata": {},
   "outputs": [
    {
     "data": {
      "text/plain": [
       "0"
      ]
     },
     "execution_count": 4,
     "metadata": {},
     "output_type": "execute_result"
    }
   ],
   "source": [
    "9 % 3"
   ]
  },
  {
   "cell_type": "code",
   "execution_count": 5,
   "metadata": {},
   "outputs": [
    {
     "data": {
      "text/plain": [
       "2"
      ]
     },
     "execution_count": 5,
     "metadata": {},
     "output_type": "execute_result"
    }
   ],
   "source": [
    "8 % 3"
   ]
  },
  {
   "cell_type": "markdown",
   "metadata": {},
   "source": [
    "Wenn wir durch 2 teilen, und den Rest betrachen, dann haben wir eine gerade Zahl when der Rest Null ist, und eine ungerade wenn der Rest nicht Null ist. (Der Rest kann beim Teilen durch 2 nur 0 oder 1 sein.) \n",
    "\n",
    "Damit können wir unser erstes `if-else` Beispiel zeigen und verstehen:"
   ]
  },
  {
   "cell_type": "code",
   "execution_count": 9,
   "metadata": {},
   "outputs": [
    {
     "name": "stdout",
     "output_type": "stream",
     "text": [
      "a=-1 ist eine ungerade Zahl\n"
     ]
    }
   ],
   "source": [
    "a = -1\n",
    "\n",
    "if a % 2 == 0:   \n",
    "    print(f\"a={a} ist eine gerade Zahl\")\n",
    "else:\n",
    "    print(f\"a={a} ist eine ungerade Zahl\")\n",
    "    \n",
    "    "
   ]
  },
  {
   "cell_type": "markdown",
   "metadata": {},
   "source": [
    "Wir packen das if-then Statement noch in eine Funktion, damit wir diese leichter vom Python prompt aufrufen können (um verschieden Werte für `a` zu testen):\n"
   ]
  },
  {
   "cell_type": "code",
   "execution_count": 10,
   "metadata": {},
   "outputs": [],
   "source": [
    "def gerade(a):\n",
    "    \n",
    "    if a % 2 == 0:   \n",
    "        print(f\"a={a} ist eine grade Zahl\")\n",
    "    else:\n",
    "        print(f\"a={a} ist eine ungrade Zahl\")\n",
    "    \n",
    "  "
   ]
  },
  {
   "cell_type": "code",
   "execution_count": 11,
   "metadata": {},
   "outputs": [
    {
     "name": "stdout",
     "output_type": "stream",
     "text": [
      "a=0 ist eine grade Zahl\n"
     ]
    }
   ],
   "source": [
    "gerade(0)"
   ]
  },
  {
   "cell_type": "code",
   "execution_count": 12,
   "metadata": {},
   "outputs": [
    {
     "name": "stdout",
     "output_type": "stream",
     "text": [
      "a=1 ist eine ungrade Zahl\n"
     ]
    }
   ],
   "source": [
    "gerade(1)"
   ]
  },
  {
   "cell_type": "code",
   "execution_count": 13,
   "metadata": {},
   "outputs": [
    {
     "name": "stdout",
     "output_type": "stream",
     "text": [
      "a=2 ist eine grade Zahl\n"
     ]
    }
   ],
   "source": [
    "gerade(2)"
   ]
  },
  {
   "cell_type": "code",
   "execution_count": 14,
   "metadata": {},
   "outputs": [
    {
     "name": "stdout",
     "output_type": "stream",
     "text": [
      "a=3 ist eine ungrade Zahl\n"
     ]
    }
   ],
   "source": [
    "gerade(3)"
   ]
  },
  {
   "cell_type": "markdown",
   "metadata": {},
   "source": [
    "## Beispiel 2: Länge des Strings\n"
   ]
  },
  {
   "cell_type": "markdown",
   "metadata": {},
   "source": [
    "# Structure des `if-else` Konstrukts:"
   ]
  },
  {
   "cell_type": "code",
   "execution_count": null,
   "metadata": {},
   "outputs": [],
   "source": []
  }
 ],
 "metadata": {
  "kernelspec": {
   "display_name": "Python 3",
   "language": "python",
   "name": "python3"
  },
  "language_info": {
   "codemirror_mode": {
    "name": "ipython",
    "version": 3
   },
   "file_extension": ".py",
   "mimetype": "text/x-python",
   "name": "python",
   "nbconvert_exporter": "python",
   "pygments_lexer": "ipython3",
   "version": "3.7.4"
  }
 },
 "nbformat": 4,
 "nbformat_minor": 2
}
